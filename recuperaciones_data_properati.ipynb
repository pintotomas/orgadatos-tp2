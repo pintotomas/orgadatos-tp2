{
 "cells": [
  {
   "cell_type": "code",
   "execution_count": 1,
   "metadata": {
    "collapsed": true
   },
   "outputs": [],
   "source": [
    "import pandas as pd\n",
    "import numpy as np\n",
    "import os"
   ]
  },
  {
   "cell_type": "markdown",
   "metadata": {},
   "source": [
    "## En datos/properati deben estar todos los archivos de ventas provistos por properati"
   ]
  },
  {
   "cell_type": "code",
   "execution_count": 2,
   "metadata": {
    "collapsed": true
   },
   "outputs": [],
   "source": [
    "filesProperati = filter( lambda f: not f.startswith('.'), os.listdir(\"datos/properati\"))"
   ]
  },
  {
   "cell_type": "code",
   "execution_count": 3,
   "metadata": {
    "collapsed": true
   },
   "outputs": [],
   "source": [
    "dataframes = []\n",
    "\n",
    "for file_name in filesProperati:\n",
    "    \n",
    "    newDataFrame = pd.read_csv(\"datos/properati/\"+file_name, error_bad_lines = False)\n",
    "    dataframes.append(newDataFrame)\n"
   ]
  },
  {
   "cell_type": "markdown",
   "metadata": {},
   "source": [
    "## ¿Como filtramos por las zonas pedidas?"
   ]
  },
  {
   "cell_type": "code",
   "execution_count": 4,
   "metadata": {},
   "outputs": [
    {
     "name": "stdout",
     "output_type": "stream",
     "text": [
      "Cantidad de registros con valor nulo en state_name: 0\n",
      "Cantidad de registros con valor nulo en place_w_parent_names: 0\n",
      "Cantidad de archivos que no cuentan con la columna state_name: 26\n",
      "Cantidad de archivos que no cuentan con la columna place_w_parent_names: 0\n"
     ]
    }
   ],
   "source": [
    "nulosStateName = 0\n",
    "nulosPlaceWParentNames = 0\n",
    "noCuentaConStateName = 0\n",
    "noCuentaConPlaceWParentNames = 0\n",
    "for df in dataframes:\n",
    "    try:\n",
    "        nulosStateName += df.state_name.isnull().sum()\n",
    "    except:\n",
    "        noCuentaConStateName += 1\n",
    "    try:\n",
    "        nulosPlaceWParentNames += df.place_with_parent_names.isnull().sum()\n",
    "    except:\n",
    "        noCuentaConPlaceWParentNames += 1\n",
    "print \"Cantidad de registros con valor nulo en state_name: \"+str(nulosStateName)\n",
    "print \"Cantidad de registros con valor nulo en place_w_parent_names: \"+str(nulosPlaceWParentNames)\n",
    "print \"Cantidad de archivos que no cuentan con la columna state_name: \"+str(noCuentaConStateName)\n",
    "print \"Cantidad de archivos que no cuentan con la columna place_w_parent_names: \"+str(noCuentaConPlaceWParentNames)"
   ]
  },
  {
   "cell_type": "markdown",
   "metadata": {
    "collapsed": true
   },
   "source": [
    "## Dado los resultados, para quedarnos solo con las propiedades de Capital Federal y GBA tendremos que utilizar la columna 'place_with_parent_names'"
   ]
  },
  {
   "cell_type": "code",
   "execution_count": 5,
   "metadata": {
    "collapsed": true
   },
   "outputs": [],
   "source": [
    "frecuencias = {}\n",
    "for df in dataframes:\n",
    "    parentNames = df['place_with_parent_names']\n",
    "    for padres in parentNames:\n",
    "        zona = padres.split(\"|\")[2]\n",
    "        if zona not in frecuencias:\n",
    "            frecuencias[zona] = 1\n",
    "        else:\n",
    "            frecuencias[zona]+=1"
   ]
  },
  {
   "cell_type": "code",
   "execution_count": 6,
   "metadata": {},
   "outputs": [
    {
     "name": "stdout",
     "output_type": "stream",
     "text": [
      "San Juan 649\n",
      "Córdoba 117036\n",
      "Chaco 1976\n",
      "Mendoza 9302\n",
      "Colonia 205\n",
      "Chubut 1637\n",
      "Capital Federal 699655\n",
      "San Luis 7437\n",
      "Tucumán 4774\n",
      "Misiones 11996\n",
      "Tierra Del Fuego 941\n",
      "Bs.As. G.B.A. Zona Oeste 327481\n",
      "Corrientes 2064\n",
      "Formosa 408\n",
      "Maldonado 6101\n",
      "Río Negro 18831\n",
      "Santa Cruz 285\n",
      "New York 41\n",
      "California 29\n",
      "Montevideo 3281\n",
      "Neuquén 12472\n",
      "La Pampa 5440\n",
      "Buenos Aires Costa Atlántica 322874\n",
      "Buenos Aires Interior 68078\n",
      "Miami 987\n",
      "Florida 1187\n",
      "Bs.As. G.B.A. Zona Sur 185564\n",
      "Santa Catarina 268\n",
      "Santiago Del Estero 286\n",
      "Rocha 85\n",
      "Jujuy 535\n",
      "Punta del Este 15209\n",
      "Santa Fe 132237\n",
      "Salta 7969\n",
      "La Rioja 341\n",
      "Entre Ríos 16943\n",
      "Bs.As. G.B.A. Zona Norte 585113\n",
      "Catamarca 1015\n"
     ]
    }
   ],
   "source": [
    "for zona in frecuencias: \n",
    "    print zona,frecuencias[zona]"
   ]
  },
  {
   "cell_type": "markdown",
   "metadata": {
    "collapsed": true
   },
   "source": [
    "## Interesan: Bs.As. G.B.A. Zona Norte, Bs.As. G.B.A. Zona Sur, Bs.As. G.B.A. Zona Oeste, Capital Federal\n"
   ]
  },
  {
   "cell_type": "code",
   "execution_count": 7,
   "metadata": {
    "collapsed": true
   },
   "outputs": [],
   "source": [
    "def filtrarCapitalYGBA(serie):\n",
    "    deseados = [\"Bs.As. G.B.A. Zona Norte\", \"Bs.As. G.B.A. Zona Sur\", \"Bs.As. G.B.A. Zona Oeste\", \"Capital Federal\"]\n",
    "    booleans = []\n",
    "    for item in serie:\n",
    "        if item.split(\"|\")[2] in deseados:\n",
    "            booleans.append(True)\n",
    "        else:\n",
    "            booleans.append(False)\n",
    "    return booleans"
   ]
  },
  {
   "cell_type": "code",
   "execution_count": 8,
   "metadata": {
    "collapsed": true
   },
   "outputs": [],
   "source": [
    "filtrados =[]\n",
    "for df in dataframes:\n",
    "    \n",
    "    df = df[filtrarCapitalYGBA(df['place_with_parent_names'])]\n",
    "    filtrados.append(df)"
   ]
  },
  {
   "cell_type": "markdown",
   "metadata": {
    "collapsed": true
   },
   "source": [
    "### Por las dudas chequeo que ahora las frecuencias sean las mismas y solo queden las zonas que interesan"
   ]
  },
  {
   "cell_type": "code",
   "execution_count": 9,
   "metadata": {
    "collapsed": true
   },
   "outputs": [],
   "source": [
    "frecuencias = {}\n",
    "for df in filtrados:\n",
    "    parentNames = df['place_with_parent_names']\n",
    "    for padres in parentNames:\n",
    "        zona = padres.split(\"|\")[2]\n",
    "        if zona not in frecuencias:\n",
    "            frecuencias[zona] = 1\n",
    "        else:\n",
    "            frecuencias[zona]+=1"
   ]
  },
  {
   "cell_type": "code",
   "execution_count": 10,
   "metadata": {},
   "outputs": [
    {
     "name": "stdout",
     "output_type": "stream",
     "text": [
      "Capital Federal 699655\n",
      "Bs.As. G.B.A. Zona Norte 585113\n",
      "Bs.As. G.B.A. Zona Oeste 327481\n",
      "Bs.As. G.B.A. Zona Sur 185564\n"
     ]
    }
   ],
   "source": [
    "for key in frecuencias:\n",
    "    print key, frecuencias[key]"
   ]
  },
  {
   "cell_type": "markdown",
   "metadata": {},
   "source": [
    "# Ahora recupero datos, elimino algunas columnas, y demas.\n",
    "# Primero miro como estan los datos, para ver si conviene trabajar con los precios en pesos argentinos o dolares. "
   ]
  },
  {
   "cell_type": "code",
   "execution_count": 11,
   "metadata": {
    "collapsed": true
   },
   "outputs": [],
   "source": [
    "def a(df, column_name):\n",
    "    try:\n",
    "        return(df[column_name].isnull().sum(),0)\n",
    "    except:\n",
    "        return (0,1)"
   ]
  },
  {
   "cell_type": "code",
   "execution_count": 12,
   "metadata": {
    "collapsed": true
   },
   "outputs": [],
   "source": [
    "nulsPriceAproxLocalCurr = 0\n",
    "nulsPriceAproxUsd = 0\n",
    "nulsPricePerM2 = 0\n",
    "nulsPricePerM2usd = 0\n",
    "\n",
    "priceAproxLocalCurrInex = 0\n",
    "priceAproxUsdInex = 0\n",
    "pricePerM2Inex = 0\n",
    "pricePerM2usdInex = 0\n",
    "\n",
    "for df in filtrados:\n",
    "    nuls, inex = a(df, \"price_aprox_local_currency\")\n",
    "    nulsPriceAproxLocalCurr += nuls\n",
    "    priceAproxLocalCurrInex += inex\n",
    "    nuls,inex = a(df, \"price_aprox_usd\")\n",
    "    nulsPriceAproxUsd += nuls\n",
    "    priceAproxUsdInex += inex\n",
    "    nuls, inex = a(df, \"price_per_m2\")\n",
    "    nulsPricePerM2 += nuls\n",
    "    pricePerM2Inex += inex\n",
    "    nuls,inex = a(df, \"price_usd_per_m2\")\n",
    "    nulsPricePerM2usd += nuls\n",
    "    pricePerM2usdInex += inex"
   ]
  },
  {
   "cell_type": "code",
   "execution_count": 13,
   "metadata": {},
   "outputs": [
    {
     "name": "stdout",
     "output_type": "stream",
     "text": [
      "225688 Nulls priceAproxLocalCurr\n",
      "225688 Nulls priceAproxUsd\n",
      "116516 Nulls Price Per M2\n",
      "674702 Nulls pricePerM2USD\n",
      "0 Inexistentes priceAproxLocalCurr\n",
      "0 Inexistentes priceAproxUsd\n",
      "26 Inexistentes pricePerM2\n",
      "0 Inexistentes pricePerM2usd\n"
     ]
    }
   ],
   "source": [
    "print str(nulsPriceAproxLocalCurr)+\" Nulls priceAproxLocalCurr\"\n",
    "print str(nulsPriceAproxUsd)+\" Nulls priceAproxUsd\"\n",
    "print str(nulsPricePerM2)+\" Nulls Price Per M2\"\n",
    "print str(nulsPricePerM2usd)+\" Nulls pricePerM2USD\"\n",
    "print str(priceAproxLocalCurrInex)+\" Inexistentes priceAproxLocalCurr\"\n",
    "print str(priceAproxUsdInex)+\" Inexistentes priceAproxUsd\"\n",
    "print str(pricePerM2Inex)+\" Inexistentes pricePerM2\"\n",
    "print str(pricePerM2usdInex)+\" Inexistentes pricePerM2usd\""
   ]
  },
  {
   "cell_type": "markdown",
   "metadata": {},
   "source": [
    "# Tambien miro los datos acerca de las superficies"
   ]
  },
  {
   "cell_type": "markdown",
   "metadata": {},
   "source": [
    "## Observo que algunos archivos solo tienen una columna 'surface_in_m2', no distingue entre si es cubierta o si es total, suponemos que es la superficie total. "
   ]
  },
  {
   "cell_type": "code",
   "execution_count": 14,
   "metadata": {},
   "outputs": [
    {
     "data": {
      "text/plain": [
       "475805"
      ]
     },
     "execution_count": 14,
     "metadata": {},
     "output_type": "execute_result"
    }
   ],
   "source": [
    "nulsSuperficieTotal = 0\n",
    "for df in filtrados:\n",
    "    try:\n",
    "        nulsSuperficieTotal += df.surface_in_m2.isnull().sum()\n",
    "    except:\n",
    "        nulsSuperficieTotal += df.surface_total_in_m2.isnull().sum()\n",
    "nulsSuperficieTotal"
   ]
  },
  {
   "cell_type": "code",
   "execution_count": 15,
   "metadata": {},
   "outputs": [
    {
     "name": "stdout",
     "output_type": "stream",
     "text": [
      "Cantidad de propiedades de las que se conoce el precio por m2 (En pesos) pero no en dolares: 107423\n"
     ]
    }
   ],
   "source": [
    "#Cuenta cuantas propiedades tienen el precio por m2 en dolares nulo, \n",
    "#pero el precio local no nulo\n",
    "count = 0\n",
    "for df in filtrados:\n",
    "    try:\n",
    "        count += len(df[~df.price_per_m2.isnull() & df.price_usd_per_m2.isnull()])\n",
    "    except:\n",
    "        #Algunos dataframes no tienen el precio por m2 en pesos\n",
    "        continue\n",
    "print \"Cantidad de propiedades de las que se conoce el precio por m2 (En pesos)\\\n",
    " pero no en dolares: \"+str(count)"
   ]
  },
  {
   "cell_type": "markdown",
   "metadata": {},
   "source": [
    "# ¿La columna price, tiene el mismo precio que price_aprox_usd o el mismo precio que price_aprox_local_curr? solo analizamos para el caso en el que no este el precio en dolares"
   ]
  },
  {
   "cell_type": "code",
   "execution_count": 16,
   "metadata": {},
   "outputs": [
    {
     "name": "stdout",
     "output_type": "stream",
     "text": [
      "88\n",
      "1433441\n"
     ]
    }
   ],
   "source": [
    "mismo_usd = 0\n",
    "mismo_aprox_local_curr = 0\n",
    "for df in filtrados:\n",
    "    mismo_aprox_local_curr += len(df[(df[\"price_aprox_local_currency\"] == df[\"price\"]) &\\\n",
    "                                    (df[\"price\"] != df[\"price_aprox_usd\"]) & \\\n",
    "                                    ~df[\"price_aprox_usd\"].isnull()])\n",
    "    mismo_usd += len(df[df[\"price_aprox_usd\"] == df[\"price\"]])\n",
    "\n",
    "print mismo_aprox_local_curr\n",
    "print mismo_usd\n",
    "    "
   ]
  },
  {
   "cell_type": "markdown",
   "metadata": {},
   "source": [
    "# Salvo pocos casos, la columna price contiene los mismos valores que la columna price_aprox_usd. Descarto la columna price. ¿Puedo recuperar precio de propiedades en dolares a partir del precio aproximado local?"
   ]
  },
  {
   "cell_type": "code",
   "execution_count": 17,
   "metadata": {},
   "outputs": [
    {
     "name": "stdout",
     "output_type": "stream",
     "text": [
      "2\n"
     ]
    }
   ],
   "source": [
    "coincidencias = 0\n",
    "for df in filtrados:\n",
    "    coincidencias += len(df[(~df[\"price_aprox_local_currency\"].isnull() & df[\"price_aprox_usd\"].isnull()) |\\\n",
    "                            (~df[\"price\"].isnull() & df[\"price_aprox_usd\"].isnull())])\n",
    "\n",
    "print coincidencias\n",
    "    "
   ]
  },
  {
   "cell_type": "markdown",
   "metadata": {},
   "source": [
    "# Son tan solo dos casos en los que el precio aproximado local no es nulo y el precio en dolares lo es. No tenerlo en cuenta no deberia afectarnos"
   ]
  },
  {
   "cell_type": "markdown",
   "metadata": {},
   "source": [
    "# Se pueden recuperar datos de los precios en dolares por m2 realizando la correspondiente conversion. De igual manera, antes estudio para ver que no se pueda recuperar de otra manera. "
   ]
  },
  {
   "cell_type": "markdown",
   "metadata": {},
   "source": [
    "## Antes de realizar conversiones o algunos calculos para poder recuperar el precio en USD, investigo si con la descripcion puedo recuperar algo de esto"
   ]
  },
  {
   "cell_type": "code",
   "execution_count": 18,
   "metadata": {},
   "outputs": [
    {
     "data": {
      "text/plain": [
       "1797813"
      ]
     },
     "execution_count": 18,
     "metadata": {},
     "output_type": "execute_result"
    }
   ],
   "source": [
    "sum(len(x) for x in filtrados) #cuantos registros tenemos en total?"
   ]
  },
  {
   "cell_type": "code",
   "execution_count": 19,
   "metadata": {},
   "outputs": [
    {
     "name": "stderr",
     "output_type": "stream",
     "text": [
      "/home/tomas/anaconda2/lib/python2.7/site-packages/ipykernel_launcher.py:3: SettingWithCopyWarning: \n",
      "A value is trying to be set on a copy of a slice from a DataFrame.\n",
      "Try using .loc[row_indexer,col_indexer] = value instead\n",
      "\n",
      "See the caveats in the documentation: http://pandas.pydata.org/pandas-docs/stable/indexing.html#indexing-view-versus-copy\n",
      "  This is separate from the ipykernel package so we can avoid doing imports until\n",
      "/home/tomas/anaconda2/lib/python2.7/site-packages/ipykernel_launcher.py:5: SettingWithCopyWarning: \n",
      "A value is trying to be set on a copy of a slice from a DataFrame.\n",
      "Try using .loc[row_indexer,col_indexer] = value instead\n",
      "\n",
      "See the caveats in the documentation: http://pandas.pydata.org/pandas-docs/stable/indexing.html#indexing-view-versus-copy\n",
      "  \"\"\"\n",
      "/home/tomas/anaconda2/lib/python2.7/site-packages/ipykernel_launcher.py:7: SettingWithCopyWarning: \n",
      "A value is trying to be set on a copy of a slice from a DataFrame.\n",
      "Try using .loc[row_indexer,col_indexer] = value instead\n",
      "\n",
      "See the caveats in the documentation: http://pandas.pydata.org/pandas-docs/stable/indexing.html#indexing-view-versus-copy\n",
      "  import sys\n"
     ]
    }
   ],
   "source": [
    "for df in filtrados:\n",
    "    if \"description\" in df.columns:\n",
    "        df[\"description\"] = df[\"description\"].str.lower()\n",
    "    if \"title\" in df.columns:\n",
    "        df[\"title\"] = df[\"title\"].str.lower()\n",
    "    if \"extra\" in df.columns:\n",
    "        df[\"extra\"] = df[\"extra\"].str.lower()"
   ]
  },
  {
   "cell_type": "code",
   "execution_count": 20,
   "metadata": {},
   "outputs": [
    {
     "name": "stdout",
     "output_type": "stream",
     "text": [
      "Se encontro que 225688 registros no tienen informacion del precio en USD\n",
      "Se encontro tambien que en 25603 registros se podria recuperar el precio en USD de otras columnas\n",
      "\n"
     ]
    }
   ],
   "source": [
    "total_no_price_usd = 0 \n",
    "total_recuperable_info = 0\n",
    "for df in filtrados:\n",
    "    df_no_price_usd = df[df[\"price_aprox_usd\"].isnull()]\n",
    "    cantidad = len(df_no_price_usd)\n",
    "    cols_considerar = []\n",
    "    if \"extra\" in df.columns:\n",
    "        cols_considerar.append(\"extra\")\n",
    "    if \"title\" in df.columns:\n",
    "        cols_considerar.append(\"title\")\n",
    "    if \"description\" in df.columns:\n",
    "        cols_considerar.append(\"description\")\n",
    "        \n",
    "    posibles_recuperables = 0\n",
    "    for col in cols_considerar:\n",
    "        \n",
    "        menciona_dolares = df_no_price_usd[df_no_price_usd[col].str.contains(\"dolares\")]\n",
    "        menciona_dolares_2 = df_no_price_usd[df_no_price_usd[col].str.contains(\"dólares\")]\n",
    "        menciona_usd = df_no_price_usd[df_no_price_usd[col].str.contains(\"usd\")]\n",
    "        posibles_recuperables += (len(menciona_dolares) + len(menciona_dolares_2) + len(menciona_usd))\n",
    "    total_no_price_usd += cantidad\n",
    "    total_recuperable_info += posibles_recuperables\n",
    "print \"Se encontro que \"+str(total_no_price_usd)+\" registros no tienen informacion del precio en USD\"\n",
    "print \"Se encontro tambien que en \"+str(total_recuperable_info)+\" registros se podria recuperar el precio en USD de otras columnas\"\n",
    "print \"\""
   ]
  },
  {
   "cell_type": "markdown",
   "metadata": {},
   "source": [
    "## Hay algunos precios en dolar que podemos recuperar de la descripcion! hacemos una vista previa a el sector de la descripcion donde se menciona USD o dolares"
   ]
  },
  {
   "cell_type": "code",
   "execution_count": 21,
   "metadata": {
    "collapsed": true
   },
   "outputs": [
    {
     "name": "stdout",
     "output_type": "stream",
     "text": [
      "\n",
      "codigo: 779-abc555 ubicado en: 9 de julio 400 -  publicado por: c. gutierrez operaciones inmobiliarias. el precio es de ars 68000 null. epartamento a estrenar de 2 ambientes al frente con cochera. características: 41 m² cubiertos, balcón de 3 m², cochera, aberturas de aluminio, instalación para aire acondicionado, conexión para lavarropa, termotanque y anafe eléctrico, cocina con bajo mesada y alacena, pisos de porcelanato. bajas expensas. . publicado a través de mapaprop\n",
      "\n",
      " <br>venta departamento en caballito  ubicado en una excelente zona residencial del barrio de caballito. donde coinciden y se complementan el centro geogrÃ¡fico de la ciudad y el parque centenario, una de las Ã¡reas verdes mÃ¡s significativas de todo buenos aires. una zona residencial en constante crecimiento y revalorizaciÃ³n, con fÃ¡cil acceso y generosa en medios de transporte pÃºblicos.   el proyecto contempla 35 unidades de entre 37 y 41,5 m2 con una calidad en el diseÃ±o arquitectÃ³nico que maximiza el uso y las comodidades para esas superficies.   el edificio contarÃ¡ con cocheras cubiertas, pileta y laundry.   la inversiÃ³n en activos inmobiliarios siempre ha sido la alternativa de mayor seguridad, manifestando a lo largo del tiempo una permanente revalorizaciÃ³n.   edificio de 10 pisos, de primera calidad de construcciÃ³n  hall de entrada de categorÃ­a  detalles de terminaciÃ³n  piscina  solarium en deck de madera  laundry  cocheras cubiertas (opcionales)  apto profesional  excelente oportunidad de inversion  aire acondicionado frio-calor individual instalado  artefactos, accesorios e instalaciones de primera marcas  pisos de porcelanatto  carpinteria de aluminio  cocinas con anafe, muebles bajo mesada y alacenas  consulte!  â��la presente oferta es valida por 48 horas a partir del dÃ­a 6 de mayo de 2013. luego de esa fecha esta oferta esta sujeta a modificaciones sin previo aviso.â��    tasaciones sin cargo.  suc. las heras  2140 (recoleta)  /24    callao 1120    mÃ¡s info:  -  - m y m propiedades<br>\n",
      "\n",
      "departamento tipo casaliving comedor - cocina comedor - 3 dormitorios - bao - patio - lavaderoposibilidad de cocheraapto credito bancario45.000 dolares y cuotas .publicado por viviana villalobos negocios inmobiliarios a traves inmomap\n",
      "\n",
      " <br>venta departamento en caballito  ubicado en una excelente zona residencial del barrio de caballito. donde coinciden y se complementan el centro geogrÃ¡fico de la ciudad y el parque centenario, una de las Ã¡reas verdes mÃ¡s significativas de todo buenos aires. una zona residencial en constante crecimiento y revalorizaciÃ³n, con fÃ¡cil acceso y generosa en medios de transporte pÃºblicos.   el proyecto contempla 35 unidades de entre 37 y 41,5 m2 con una calidad en el diseÃ±o arquitectÃ³nico que maximiza el uso y las comodidades para esas superficies.   el edificio contarÃ¡ con cocheras cubiertas, pileta y laundry.   la inversiÃ³n en activos inmobiliarios siempre ha sido la alternativa de mayor seguridad, manifestando a lo largo del tiempo una permanente revalorizaciÃ³n.   edificio de 10 pisos, de primera calidad de construcciÃ³n  hall de entrada de categorÃ­a  detalles de terminaciÃ³n  piscina  solarium en deck de madera  laundry  cocheras cubiertas (opcionales)  apto profesional  excelente oportunidad de inversion  aire acondicionado frio-calor individual instalado  artefactos, accesorios e instalaciones de primera marcas  pisos de porcelanatto  carpinteria de aluminio  cocinas con anafe, muebles bajo mesada y alacenas  consulte!  â��la presente oferta es valida por 48 horas a partir del dÃ­a 6 de mayo de 2013. luego de esa fecha esta oferta esta sujeta a modificaciones sin previo aviso.â��    tasaciones sin cargo.  suc. las heras  2140 (recoleta)  /24    callao 1120    mÃ¡s info:  -  - m y m propiedades<br>\n",
      "\n",
      "studio de 49 m2, con cocina integrada y bano completo. en el edificio icono sur de pueblo caamano. un nuevo concepto urbanistico ecologicamente sustentable en el km. 46 del ramal de la panamericana a pilar.\n",
      "<br><br><br>p14815\n",
      "<br>\n",
      "<br>izrastzoff agentes inmobiliarios\n",
      "<br>jorge izrastzoff: matrícula cucicba 1354\n",
      "<br>maría izrastzoff: matrícula cucicba 4516 | matrícula csi 5191\n",
      "<br>continúe buscando en nuestro sitio web \n",
      "\n",
      "<br> -  - m y m propiedades<br>\n",
      "\n",
      "departamento tipo casaliving comedor - cocina comedor - 3 dormitorios - bao - patio - lavaderoposibilidad de cocheraapto credito bancario45.000 dolares y cuotas .publicado por viviana villalobos negocios inmobiliarios a traves inmomap\n",
      "\n",
      "studio de 49 m2, con cocina integrada y bano completo. en el edificio icono sur de pueblo caamano. un nuevo concepto urbanistico ecologicamente sustentable en el km. 46 del ramal de la panamericana a pilar.\n",
      "\n",
      "\n",
      "\n",
      "<br>venta departamento en caballito  ubicado en una excelente zona residencial del barrio de caballito. donde coinciden y se complementan el centro geogrÃ¡fico de la ciudad y el parque centenario, una de las Ã¡reas verdes mÃ¡s significativas de todo buenos aires. una zona residencial en constante crecimiento y revalorizaciÃ³n, con fÃ¡cil acceso y generosa en medios de transporte pÃºblicos.   el proyecto contempla 35 unidades de entre 37 y 41,5 m2 con una calidad en el diseÃ±o arquitectÃ³nico que maximiza el uso y las comodidades para esas superficies.   el edificio contarÃ¡ con cocheras cubiertas, pileta y laundry.   la inversiÃ³n en activos inmobiliarios siempre ha sido la alternativa de mayor seguridad, manifestando a lo largo del tiempo una permanente revalorizaciÃ³n.   edificio de 10 pisos, de primera calidad de construcciÃ³n  hall de entrada de categorÃ­a  detalles de terminaciÃ³n  piscina  solarium en deck de madera  laundry  cocheras cubiertas (opcionales)  apto profesional  excelente oportunidad de inversion  aire acondicionado frio-calor individual instalado  artefactos, accesorios e instalaciones de primera marcas  pisos de porcelanatto  carpinteria de aluminio  cocinas con anafe, muebles bajo mesada y alacenas  consulte!  â��la presente oferta es valida por 48 horas a partir del dÃ­a 6 de mayo de 2013. luego de esa fecha esta oferta esta sujeta a modificaciones sin previo aviso.â��    tasaciones sin cargo.  suc. las heras  2140 (recoleta)  /24    callao 1120    mÃ¡s info:  -  - m y m propiedades<br>\n",
      "\n",
      "studio de 49 m2, con cocina integrada y bano completo. en el edificio icono sur de pueblo caamano. un nuevo concepto urbanistico ecologicamente sustentable en el km. 46 del ramal de la panamericana a pilar.\n",
      "<br><br><br>p14815\n",
      "<br>\n",
      "<br>izrastzoff agentes inmobiliarios\n",
      "<br>jorge izrastzoff: matrícula cucicba 1354\n",
      "<br>maría izrastzoff: matrícula cucicba 4516 | matrícula csi 5191\n",
      "<br>\n",
      "<br>-&gt; continúe buscando en nuestro sitio web \n",
      "\n",
      "***¡¡Últimos disponibles!! ***  preventa en pozo<br><br>consulte por financiacion y descuento por pago al contado o la compra de 2 unidades (departamento o estudio).  posesión setiembre del 2016<br><br>*** zona botánico.***  excelente ubicación.  subte d y muchas líneas de colectivos. cercano a ferrocarril, sociedad rural, jardín zoológico.<br><br>excelente departamento de 2 ambientes con balcón en edificio en construcción.<br>dormitorio, baño y ambiente luminoso con salida al balcón.<br>apto profesional.<br>muy bajas expensas.<br>edificio con servicios de laundry, sum, solarium y jacuzzi.  <br><br>\n",
      "\n",
      "venta departamento en caballito  ubicado en una excelente zona residencial del barrio de caballito. donde coinciden y se complementan el centro geográfico de la ciudad y el parque centenario, una de las áreas verdes más significativas de todo buenos aires. una zona residencial en constante crecimiento y revalorización, con fácil acceso y generosa en medios de transporte públicos.   el proyecto contempla 35 unidades de entre 37 y 41,5 m2 con una calidad en el diseño arquitectónico que maximiza el uso y las comodidades para esas superficies.   el edificio contará con cocheras cubiertas, pileta y laundry.   la inversión en activos inmobiliarios siempre ha sido la alternativa de mayor seguridad, manifestando a lo largo del tiempo una permanente revalorización.   edificio de 10 pisos, de primera calidad de construcción  hall de entrada de categoría  detalles de terminación  piscina  solarium en deck de madera  laundry  cocheras cubiertas (opcionales)  apto profesional  excelente oportunidad de inversion  aire acondicionado frio-calor individual instalado  artefactos, accesorios e instalaciones de primera marcas  pisos de porcelanatto  carpinteria de aluminio  cocinas con anafe, muebles bajo mesada y alacenas  consulte!  “la presente oferta es valida por 48 horas a partir del día 6 de mayo de 2013. luego de esa fecha esta oferta esta sujeta a modificaciones sin previo aviso.”    tasaciones sin cargo.  suc. las heras  2140 (recoleta)  /24    callao 1120    más info:  -  - m y m propiedades\n",
      "\n",
      "<br>venta departamento en caballito  ubicado en una excelente zona residencial del barrio de caballito. donde coinciden y se complementan el centro geogrÃ¡fico de la ciudad y el parque centenario, una de las Ã¡reas verdes mÃ¡s significativas de todo buenos aires. una zona residencial en constante crecimiento y revalorizaciÃ³n, con fÃ¡cil acceso y generosa en medios de transporte pÃºblicos.   el proyecto contempla 35 unidades de entre 37 y 41,5 m2 con una calidad en el diseÃ±o arquitectÃ³nico que maximiza el uso y las comodidades para esas superficies.   el edificio contarÃ¡ con cocheras cubiertas, pileta y laundry.   la inversiÃ³n en activos inmobiliarios siempre ha sido la alternativa de mayor seguridad, manifestando a lo largo del tiempo una permanente revalorizaciÃ³n.   edificio de 10 pisos, de primera calidad de construcciÃ³n  hall de entrada de categorÃ­a  detalles de terminaciÃ³n  piscina  solarium en deck de madera  laundry  cocheras cubiertas (opcionales)  apto profesional  excelente oportunidad de inversion  aire acondicionado frio-calor individual instalado  artefactos, accesorios e instalaciones de primera marcas  pisos de porcelanatto  carpinteria de aluminio  cocinas con anafe, muebles bajo mesada y alacenas  consulte!  â��la presente oferta es valida por 48 horas a partir del dÃ­a 6 de mayo de 2013. luego de esa fecha esta oferta esta sujeta a modificaciones sin previo aviso.â��    tasaciones sin cargo.  suc. las heras  2140 (recoleta)  /24    callao 1120    mÃ¡s info:  -  - m y m propiedades<br>\n",
      "\n",
      "monoambiente 47.23 m2 totales incluye jardín.posee puerta de seguridad en acceso a departamento, construida en doble chapa de acero. agua caliente individual. pisos de porcelanato. placard con frente deslizante.laundry. portero eléctrico visor y control de acceso por tarjeta magnética. nro referencia interna: n 16414\n",
      "\n",
      "<br>venta departamento en caballito  ubicado en una excelente zona residencial del barrio de caballito. donde coinciden y se complementan el centro geogrÃ¡fico de la ciudad y el parque centenario, una de las Ã¡reas verdes mÃ¡s significativas de todo buenos aires. una zona residencial en constante crecimiento y revalorizaciÃ³n, con fÃ¡cil acceso y generosa en medios de transporte pÃºblicos.   el proyecto contempla 35 unidades de entre 37 y 41,5 m2 con una calidad en el diseÃ±o arquitectÃ³nico que maximiza el uso y las comodidades para esas superficies.   el edificio contarÃ¡ con cocheras cubiertas, pileta y laundry.   la inversiÃ³n en activos inmobiliarios siempre ha sido la alternativa de mayor seguridad, manifestando a lo largo del tiempo una permanente revalorizaciÃ³n.   edificio de 10 pisos, de primera calidad de construcciÃ³n  hall de entrada de categorÃ­a  detalles de terminaciÃ³n  piscina  solarium en deck de madera  laundry  cocheras cubiertas (opcionales)  apto profesional  excelente oportunidad de inversion  aire acondicionado frio-calor individual instalado  artefactos, accesorios e instalaciones de primera marcas  pisos de porcelanatto  carpinteria de aluminio  cocinas con anafe, muebles bajo mesada y alacenas  consulte!  â��la presente oferta es valida por 48 horas a partir del dÃ­a 6 de mayo de 2013. luego de esa fecha esta oferta esta sujeta a modificaciones sin previo aviso.â��    tasaciones sin cargo.  suc. las heras  2140 (recoleta)  /24    callao 1120    mÃ¡s info:  -  - m y m propiedades<br>\n"
     ]
    },
    {
     "name": "stdout",
     "output_type": "stream",
     "text": [
      "\n",
      "alquiler amoblado - 4 pasajerossan telmo - puerto madero - centro buenos airesalquiler departamento amueblado.luminoso departamento, ubicado a dos cuadras de la avenida alicia moreau de justo, lujoso barrio de puerto madero, zona repleta de restaurantes y bares junto al río. este elegante departamento es ideal para dos personas y cuenta con: un dormitorio, un living-comedor, una cocina con barra desayunadora con dos banquetas, un baño completo, un toilette para visitas y un hermoso balcón aterrazado al que se accede por el comedor y el dormitorio. además, el edificio posee lobby con servicio recepción y vigilancia las 24hs, dos salas de estar, biblioteca, jardín, piscina, solarium, gimnasio. en unos meses se podrá utilizar el salón de fiestas y estacionamiento de automóviles opcional. el edificio cuenta con: -piscina -gym -servicio de vigilancia las 24hs. -solarium -sum / salón de fiestas -lobby con biblioteca alquiler por 2 aÑos $24.700 para los casos de alquiler de vivienda a persona física, el monto máximo de comisión que se le puede requerir a los propietarios será el equivalente al (4,15%) del valor total del respectivo contrato. se encuentra prohibido cobrar a los inquilinos que sean personas físicas comisiones inmobiliarias y gastos de gestoría de informes requisitos garantía propietaria y recibo de sueldo.visitas 11 legarreta propiedades - trabajamos tu casa como si fuera la nuesta. cucicba matrícula 691.cable tv - lcd tvinternet wi-fisábanas y toallasplatos y utensilios de cocinaaire acondicionado frío / calorservicio de limpieza semanalheladera con freezermicroondashorno eléctricococina eléctricacafeteratostadoralavavajillaslavarropas / secarropascaja de seguridadbalcónel edificio cuenta con:piscinagymservicio de vigilancia las 24hs.solariumsum / salón de fiestaslobby con bibliotecacocheras opcionaleslegarreta propiedades(+549) 11  ...............................................furnished rent - 4 passengerssan telmo - puerto madero - downtown buenos airesrent furnished apartment.bright apartment located two blocks from the alicia moreau de justo avenue, a luxurious neighborhood of puerto madero, an area full of restaurants and bars along the river. this elegant apartment is ideal for two people and has: a bedroom, a living-dining room, a kitchen with breakfast bar with two stools, a bathroom, a toilet for visitors and a beautiful terraced balcony accessed through the dining room and the bedroom. in addition, the building has a lobby with 24h reception and surveillance service, two living rooms, library, garden, swimming pool, solarium, gym. in a few months you can use the party room and optional car parking. the building has: - pool -gym - 24hs surveillance service. -solarium -sum / holiday room -lobby with library rent for 2 years $ 24.700 for cases of rental of housing to natural person, the maximum amount of commission that may be required from the owners will be the equivalent of (4.15% ) of the total value of the respective contract. it is forbidden to charge tenants who are individuals real estate commissions and reporting expenses requirements owner guarantee and salary receipt.visits 11 legarreta properties - we work your house as if it were the nest. cucicba registration 691.cable tv - lcd tvinternet wifisheets and towelsdishes and cooking utensilsair conditioning hot / coldweekly maid servicerefrigerator with freezermicrowaveelectric ovenelectric kitchencoffee makertoasterdishwasherwasher / dryersecurity boxbalconythe building has:poolgym24 hour security service.solariumsum / party roomlobby with libraryparking space / garage optionallegarreta properties(+549) 11  \n",
      "\n",
      "apto credito hipotecariomuy buena casa desarrollada practicamente en una planta : living y comedor con vista frente y hacia galeria y jardin , cocina , toilette, dep de servicio . 3 dom con dos baños (uno en suite) pa: gran play room o sum con baño . galeria con parrilla, entrada varios autos. desde pa muy buena vista al rio.se vende con renta marzo 2018matriculado:blanca gaitancmcpsi 5938cel. +54 9 1157512210\n",
      "\n",
      "departamento tipo casaliving comedor - cocina comedor - 3 dormitorios - bao - patio - lavaderoposibilidad de cocheraapto credito bancario45.000 dolares y cuotas .publicado por viviana villalobos negocios inmobiliarios a traves inmomap\n",
      "\n",
      "departamento tipo casaliving comedor - cocina comedor - 3 dormitorios - bao - patio - lavaderoposibilidad de cocheraapto credito bancario45.000 dolares y cuotas .publicado por viviana villalobos negocios inmobiliarios a traves inmomap\n"
     ]
    }
   ],
   "source": [
    "for df in filtrados:\n",
    "    df_no_price_usd = df[df[\"price_aprox_usd\"].isnull()]\n",
    "    cantidad = len(df_no_price_usd)\n",
    "    cols_considerar = []\n",
    "    if \"extra\" in df.columns:\n",
    "        cols_considerar.append(\"extra\")\n",
    "    if \"title\" in df.columns:\n",
    "        cols_considerar.append(\"title\")\n",
    "    if \"description\" in df.columns:\n",
    "        cols_considerar.append(\"description\")\n",
    "        \n",
    "    posibles_recuperables = 0\n",
    "    for col in cols_considerar:\n",
    "        \n",
    "        menciona_dolares = df_no_price_usd[df_no_price_usd[col].str.contains(\"dolares\")].head(1)\n",
    "        menciona_dolares_2 = df_no_price_usd[df_no_price_usd[col].str.contains(\"dólares\")].head(1)\n",
    "        menciona_usd = df_no_price_usd[df_no_price_usd[col].str.contains(\"usd\")].head(1)\n",
    "        dfs = [menciona_dolares, menciona_dolares_2, menciona_usd]\n",
    "        for d in dfs:\n",
    "            for index, row in d.iterrows():\n",
    "                text= row['description']\n",
    "                print \"\"\n",
    "                print text\n",
    "        break"
   ]
  },
  {
   "cell_type": "markdown",
   "metadata": {},
   "source": [
    "# Lamentablemente se observan cosas del estilo '1 usd null' o precios concatenados con otros strings, precios en distintos formatos y ademas a veces se menciona dolares/usd y se podria estar hablando de otra cosa, si bien se podria hacer el trabajo seria muy arduo y no vale la pena en este caso para  25000 registros de un total de 1797813.. de todos modos algunos de estos precios podrian ser recuperados posteriormente de otras formas que iremos viendo a continuacion: "
   ]
  },
  {
   "cell_type": "markdown",
   "metadata": {},
   "source": [
    "# ¿A cuantos se les desconoce el precio por m2 en USD y no se conoce el precio total (en USD) o la superficie total?"
   ]
  },
  {
   "cell_type": "code",
   "execution_count": 22,
   "metadata": {},
   "outputs": [
    {
     "name": "stdout",
     "output_type": "stream",
     "text": [
      "94025\n"
     ]
    }
   ],
   "source": [
    "  coincidencias = 0\n",
    "for df in filtrados:\n",
    "    if \"price_per_m2\" in df.columns:\n",
    "        coincidencias += len(df[(~df[\"price_per_m2\"].isnull() & df[\"price_usd_per_m2\"].isnull())\\\n",
    "                           & (df[\"price_aprox_usd\"].isnull() | df[\"surface_total_in_m2\"].isnull())])\n",
    "\n",
    "print coincidencias  "
   ]
  },
  {
   "cell_type": "markdown",
   "metadata": {},
   "source": [
    "# 94025 de 639946 registros pueden ser recuperados si realizamos la conversion "
   ]
  },
  {
   "cell_type": "markdown",
   "metadata": {},
   "source": [
    "# Los datos para las conversiones fueron encontrados en:\n",
    "### www.bcra.gob.ar/Pdfs/PublicacionesEstadisticas/com3500.xls\n",
    "# Los mismos fueron formateados de manera conveniente por como se nos presentan los datos de properati, usando LibreOffice Calc"
   ]
  },
  {
   "cell_type": "code",
   "execution_count": 23,
   "metadata": {
    "collapsed": true
   },
   "outputs": [],
   "source": [
    "\n",
    "datosDolar = pd.read_csv(\"info_dolar.csv\",index_col = \"Fecha\")"
   ]
  },
  {
   "cell_type": "code",
   "execution_count": 24,
   "metadata": {
    "collapsed": true
   },
   "outputs": [],
   "source": [
    "from datetime import datetime\n",
    "from datetime import timedelta\n",
    "def recuperar_precio_m2_en_dolares(rowProperati):\n",
    "    if ~pd.isnull(rowProperati[\"price_per_m2\"]) & pd.isnull(rowProperati[\"price_usd_per_m2\"]):\n",
    "        fechaCreacionPropiedad = rowProperati[\"created_on\"]\n",
    "        anho = int(fechaCreacionPropiedad.split(\"-\")[0])\n",
    "        mes = int(fechaCreacionPropiedad.split(\"-\")[1])\n",
    "        dia = int(fechaCreacionPropiedad.split(\"-\")[2])\n",
    "        fechaConCotizacion = datetime(anho, mes, dia)\n",
    "        fechaEncontrada = False\n",
    "        while not(fechaEncontrada):\n",
    "            try:\n",
    "                cotizFechaCreacProp = float(datosDolar.ix[fechaConCotizacion.strftime('%Y-%m-%d')][\"Cotizacion Dolar\"])\n",
    "                fechaEncontrada = True\n",
    "            except:\n",
    "                #En esa fecha no se habia publicado informacion del dolar (no vario)\n",
    "                #Me fijo en el dia anterior\n",
    "                fechaConCotizacion = fechaConCotizacion - timedelta(days = 1)\n",
    "        return cotizFechaCreacProp*rowProperati[\"price_per_m2\"]\n",
    "    else:\n",
    "        return rowProperati[\"price_per_m2\"]"
   ]
  },
  {
   "cell_type": "code",
   "execution_count": 25,
   "metadata": {},
   "outputs": [
    {
     "name": "stderr",
     "output_type": "stream",
     "text": [
      "/home/tomas/anaconda2/lib/python2.7/site-packages/ipykernel_launcher.py:13: DeprecationWarning: \n",
      ".ix is deprecated. Please use\n",
      ".loc for label based indexing or\n",
      ".iloc for positional indexing\n",
      "\n",
      "See the documentation here:\n",
      "http://pandas.pydata.org/pandas-docs/stable/indexing.html#deprecate_ix\n",
      "  del sys.path[0]\n",
      "/home/tomas/anaconda2/lib/python2.7/site-packages/ipykernel_launcher.py:3: SettingWithCopyWarning: \n",
      "A value is trying to be set on a copy of a slice from a DataFrame.\n",
      "Try using .loc[row_indexer,col_indexer] = value instead\n",
      "\n",
      "See the caveats in the documentation: http://pandas.pydata.org/pandas-docs/stable/indexing.html#indexing-view-versus-copy\n",
      "  This is separate from the ipykernel package so we can avoid doing imports until\n"
     ]
    }
   ],
   "source": [
    "for df in filtrados:\n",
    "    if \"price_per_m2\" in df.columns:\n",
    "        df[\"price_usd_per_m2\"] = df.apply(lambda row: recuperar_precio_m2_en_dolares(row),axis=1)"
   ]
  },
  {
   "cell_type": "markdown",
   "metadata": {},
   "source": [
    "# Corroboro"
   ]
  },
  {
   "cell_type": "code",
   "execution_count": 26,
   "metadata": {},
   "outputs": [
    {
     "name": "stdout",
     "output_type": "stream",
     "text": [
      "0\n"
     ]
    }
   ],
   "source": [
    "coincidencias = 0\n",
    "for df in filtrados:\n",
    "    if \"price_per_m2\" in df.columns:\n",
    "        coincidencias += len(df[(~df[\"price_per_m2\"].isnull() & df[\"price_usd_per_m2\"].isnull())\\\n",
    "                           & (df[\"price_aprox_usd\"].isnull() | df[\"surface_total_in_m2\"].isnull())])\n",
    "\n",
    "print coincidencias    "
   ]
  },
  {
   "cell_type": "markdown",
   "metadata": {},
   "source": [
    "# Se recuperaron 94025 registros mediante la conversion a dolares del precio del metro cuadrado"
   ]
  },
  {
   "cell_type": "markdown",
   "metadata": {},
   "source": [
    "# ¿Se puede recuperar mas informacion?"
   ]
  },
  {
   "cell_type": "code",
   "execution_count": 27,
   "metadata": {},
   "outputs": [
    {
     "name": "stderr",
     "output_type": "stream",
     "text": [
      "/home/tomas/anaconda2/lib/python2.7/site-packages/pandas/core/frame.py:2844: SettingWithCopyWarning: \n",
      "A value is trying to be set on a copy of a slice from a DataFrame\n",
      "\n",
      "See the caveats in the documentation: http://pandas.pydata.org/pandas-docs/stable/indexing.html#indexing-view-versus-copy\n",
      "  **kwargs)\n"
     ]
    }
   ],
   "source": [
    "#Primero le pongo el mismo nombre a la superficie total\n",
    "for df in filtrados:\n",
    "    try:\n",
    "        df['surface_total_in_m2']\n",
    "    except:\n",
    "        df.rename(columns={'surface_in_m2':'surface_total_in_m2'},inplace=True)\n",
    "    "
   ]
  },
  {
   "cell_type": "code",
   "execution_count": 28,
   "metadata": {},
   "outputs": [
    {
     "name": "stdout",
     "output_type": "stream",
     "text": [
      "278\n",
      "94025\n",
      "56040\n"
     ]
    }
   ],
   "source": [
    "#S 'se tiene informacion de' N 'no se tiene informacion de'\n",
    "S_ppm2_S_sup_N_precio = 0\n",
    "S_ppm2_S_precio_N_sup = 0\n",
    "S_sup_S_precio_N_ppm2 = 0\n",
    "for df in filtrados:\n",
    "    S_ppm2_S_sup_N_precio += len(df[~df[\"price_usd_per_m2\"].isnull() &\\\n",
    "                                    ~df[\"surface_total_in_m2\"].isnull() &\\\n",
    "                                    df[\"price_aprox_usd\"].isnull()])\n",
    "    S_ppm2_S_precio_N_sup += len(df[~df[\"price_usd_per_m2\"].isnull() &\\\n",
    "                                    ~df[\"price_aprox_usd\"].isnull() &\\\n",
    "                                    df[\"surface_total_in_m2\"].isnull()])\n",
    "    S_sup_S_precio_N_ppm2 += len(df[~df[\"surface_total_in_m2\"].isnull() &\\\n",
    "                                    ~df[\"price_aprox_usd\"].isnull() &\\\n",
    "                                    df[\"price_usd_per_m2\"].isnull()])\n",
    "print S_ppm2_S_sup_N_precio\n",
    "print S_ppm2_S_precio_N_sup\n",
    "print S_sup_S_precio_N_ppm2"
   ]
  },
  {
   "cell_type": "markdown",
   "metadata": {},
   "source": [
    "# Recupero esta informacion"
   ]
  },
  {
   "cell_type": "code",
   "execution_count": 29,
   "metadata": {
    "collapsed": true
   },
   "outputs": [],
   "source": [
    "from utils_recuperacion_datos import recuperar_superficie,recuperar_precio_usd,recuperar_ppm2"
   ]
  },
  {
   "cell_type": "code",
   "execution_count": 30,
   "metadata": {},
   "outputs": [
    {
     "name": "stderr",
     "output_type": "stream",
     "text": [
      "/home/tomas/anaconda2/lib/python2.7/site-packages/ipykernel_launcher.py:2: SettingWithCopyWarning: \n",
      "A value is trying to be set on a copy of a slice from a DataFrame.\n",
      "Try using .loc[row_indexer,col_indexer] = value instead\n",
      "\n",
      "See the caveats in the documentation: http://pandas.pydata.org/pandas-docs/stable/indexing.html#indexing-view-versus-copy\n",
      "  \n",
      "/home/tomas/anaconda2/lib/python2.7/site-packages/ipykernel_launcher.py:3: SettingWithCopyWarning: \n",
      "A value is trying to be set on a copy of a slice from a DataFrame.\n",
      "Try using .loc[row_indexer,col_indexer] = value instead\n",
      "\n",
      "See the caveats in the documentation: http://pandas.pydata.org/pandas-docs/stable/indexing.html#indexing-view-versus-copy\n",
      "  This is separate from the ipykernel package so we can avoid doing imports until\n",
      "/home/tomas/anaconda2/lib/python2.7/site-packages/ipykernel_launcher.py:4: SettingWithCopyWarning: \n",
      "A value is trying to be set on a copy of a slice from a DataFrame.\n",
      "Try using .loc[row_indexer,col_indexer] = value instead\n",
      "\n",
      "See the caveats in the documentation: http://pandas.pydata.org/pandas-docs/stable/indexing.html#indexing-view-versus-copy\n",
      "  after removing the cwd from sys.path.\n"
     ]
    }
   ],
   "source": [
    "for df in filtrados:\n",
    "     df['surface_total_in_m2'] = df.apply(lambda row: recuperar_superficie(row),axis=1)\n",
    "     df['price_aprox_usd'] = df.apply(lambda row: recuperar_precio_usd(row),axis=1)\n",
    "     df['price_usd_per_m2'] = df.apply(lambda row: recuperar_ppm2(row),axis=1)"
   ]
  },
  {
   "cell_type": "markdown",
   "metadata": {},
   "source": [
    "## Chequeo que se hayan recuperado datos"
   ]
  },
  {
   "cell_type": "code",
   "execution_count": 31,
   "metadata": {},
   "outputs": [
    {
     "name": "stdout",
     "output_type": "stream",
     "text": [
      "0\n",
      "0\n",
      "0\n"
     ]
    }
   ],
   "source": [
    "#S 'se tiene informacion de' N 'no se tiene informacion de'\n",
    "S_ppm2_S_sup_N_precio = 0\n",
    "S_ppm2_S_precio_N_sup = 0\n",
    "S_sup_S_precio_N_ppm2 = 0\n",
    "for df in filtrados:\n",
    "    S_ppm2_S_sup_N_precio += len(df[~df[\"price_usd_per_m2\"].isnull() &\\\n",
    "                                    ~df[\"surface_total_in_m2\"].isnull() &\\\n",
    "                                    df[\"price_aprox_usd\"].isnull()])\n",
    "    S_ppm2_S_precio_N_sup += len(df[~df[\"price_usd_per_m2\"].isnull() &\\\n",
    "                                    ~df[\"price_aprox_usd\"].isnull() &\\\n",
    "                                    df[\"surface_total_in_m2\"].isnull()])\n",
    "    S_sup_S_precio_N_ppm2 += len(df[~df[\"surface_total_in_m2\"].isnull() &\\\n",
    "                                    ~df[\"price_aprox_usd\"].isnull() &\\\n",
    "                                    df[\"price_usd_per_m2\"].isnull()])\n",
    "print S_ppm2_S_sup_N_precio\n",
    "print S_ppm2_S_precio_N_sup\n",
    "print S_sup_S_precio_N_ppm2"
   ]
  },
  {
   "cell_type": "markdown",
   "metadata": {},
   "source": [
    "## A continuacion unifico y voy eliminando duplicados, teniendo en cuenta distintos subgrupos de columnas"
   ]
  },
  {
   "cell_type": "code",
   "execution_count": 32,
   "metadata": {
    "collapsed": true
   },
   "outputs": [],
   "source": [
    "unificacion = pd.concat(filtrados, axis=0, ignore_index=True)"
   ]
  },
  {
   "cell_type": "code",
   "execution_count": 33,
   "metadata": {},
   "outputs": [
    {
     "data": {
      "text/plain": [
       "1797813"
      ]
     },
     "execution_count": 33,
     "metadata": {},
     "output_type": "execute_result"
    }
   ],
   "source": [
    "len(unificacion)"
   ]
  },
  {
   "cell_type": "code",
   "execution_count": 34,
   "metadata": {
    "collapsed": true
   },
   "outputs": [],
   "source": [
    "#Elimino los registros que tengan todas las columnas identicas\n",
    "a = unificacion.drop_duplicates(keep = \"first\")"
   ]
  },
  {
   "cell_type": "code",
   "execution_count": 35,
   "metadata": {},
   "outputs": [
    {
     "data": {
      "text/plain": [
       "1465413"
      ]
     },
     "execution_count": 35,
     "metadata": {},
     "output_type": "execute_result"
    }
   ],
   "source": [
    "len(a)"
   ]
  },
  {
   "cell_type": "code",
   "execution_count": 36,
   "metadata": {
    "collapsed": true
   },
   "outputs": [],
   "source": [
    "#Los que no tienen ni precio aproximado en dolares  ya no me interesan\n",
    "b = a[~a[\"price_aprox_usd\"].isnull()]"
   ]
  },
  {
   "cell_type": "code",
   "execution_count": 37,
   "metadata": {},
   "outputs": [
    {
     "data": {
      "text/plain": [
       "1322101"
      ]
     },
     "execution_count": 37,
     "metadata": {},
     "output_type": "execute_result"
    }
   ],
   "source": [
    "len(b)"
   ]
  },
  {
   "cell_type": "code",
   "execution_count": 38,
   "metadata": {
    "collapsed": true
   },
   "outputs": [],
   "source": [
    "links_repetidos = b[\"properati_url\"].value_counts()"
   ]
  },
  {
   "cell_type": "markdown",
   "metadata": {},
   "source": [
    "# Observo un poco que informacion encuentro en estas publicaciones con links repetidos"
   ]
  },
  {
   "cell_type": "code",
   "execution_count": 39,
   "metadata": {},
   "outputs": [
    {
     "data": {
      "text/plain": [
       "http://www.properati.com.ar/8mpk_venta_departamento_olivos_avenida-del-libertador-gral-san-martin_3000    23\n",
       "http://www.properati.com.ar/7f8h_venta_departamento_tres-de-febrero                                       22\n",
       "Name: properati_url, dtype: int64"
      ]
     },
     "execution_count": 39,
     "metadata": {},
     "output_type": "execute_result"
    }
   ],
   "source": [
    "links_repetidos.head(2)"
   ]
  },
  {
   "cell_type": "code",
   "execution_count": 40,
   "metadata": {
    "collapsed": true
   },
   "outputs": [
    {
     "data": {
      "text/html": [
       "<div>\n",
       "<style>\n",
       "    .dataframe thead tr:only-child th {\n",
       "        text-align: right;\n",
       "    }\n",
       "\n",
       "    .dataframe thead th {\n",
       "        text-align: left;\n",
       "    }\n",
       "\n",
       "    .dataframe tbody tr th {\n",
       "        vertical-align: top;\n",
       "    }\n",
       "</style>\n",
       "<table border=\"1\" class=\"dataframe\">\n",
       "  <thead>\n",
       "    <tr style=\"text-align: right;\">\n",
       "      <th></th>\n",
       "      <th></th>\n",
       "      <th>country_name</th>\n",
       "      <th>created_on</th>\n",
       "      <th>currency</th>\n",
       "      <th>description</th>\n",
       "      <th>expenses</th>\n",
       "      <th>extra</th>\n",
       "      <th>floor</th>\n",
       "      <th>geonames_id</th>\n",
       "      <th>id</th>\n",
       "      <th>...</th>\n",
       "      <th>price_aprox_usd</th>\n",
       "      <th>price_per_m2</th>\n",
       "      <th>price_usd_per_m2</th>\n",
       "      <th>properati_url</th>\n",
       "      <th>property_type</th>\n",
       "      <th>rooms</th>\n",
       "      <th>state_name</th>\n",
       "      <th>surface_covered_in_m2</th>\n",
       "      <th>surface_total_in_m2</th>\n",
       "      <th>title</th>\n",
       "    </tr>\n",
       "  </thead>\n",
       "  <tbody>\n",
       "    <tr>\n",
       "      <th>74702</th>\n",
       "      <td>NaN</td>\n",
       "      <td>NaN</td>\n",
       "      <td>2013-08-12</td>\n",
       "      <td>USD</td>\n",
       "      <td>NaN</td>\n",
       "      <td>NaN</td>\n",
       "      <td>NaN</td>\n",
       "      <td>11.0</td>\n",
       "      <td>3433955.0</td>\n",
       "      <td>NaN</td>\n",
       "      <td>...</td>\n",
       "      <td>117900.0</td>\n",
       "      <td>NaN</td>\n",
       "      <td>1871.428571</td>\n",
       "      <td>http://www.properati.com.ar/95fn_venta_departa...</td>\n",
       "      <td>apartment</td>\n",
       "      <td>1.0</td>\n",
       "      <td>NaN</td>\n",
       "      <td>NaN</td>\n",
       "      <td>63.0</td>\n",
       "      <td>NaN</td>\n",
       "    </tr>\n",
       "    <tr>\n",
       "      <th>137024</th>\n",
       "      <td>NaN</td>\n",
       "      <td>NaN</td>\n",
       "      <td>2013-08-12</td>\n",
       "      <td>USD</td>\n",
       "      <td>NaN</td>\n",
       "      <td>NaN</td>\n",
       "      <td>NaN</td>\n",
       "      <td>11.0</td>\n",
       "      <td>3433955.0</td>\n",
       "      <td>NaN</td>\n",
       "      <td>...</td>\n",
       "      <td>117900.0</td>\n",
       "      <td>NaN</td>\n",
       "      <td>1871.428571</td>\n",
       "      <td>http://www.properati.com.ar/95fn_venta_departa...</td>\n",
       "      <td>apartment</td>\n",
       "      <td>1.0</td>\n",
       "      <td>NaN</td>\n",
       "      <td>NaN</td>\n",
       "      <td>63.0</td>\n",
       "      <td>NaN</td>\n",
       "    </tr>\n",
       "    <tr>\n",
       "      <th>207175</th>\n",
       "      <td>NaN</td>\n",
       "      <td>NaN</td>\n",
       "      <td>2013-08-12</td>\n",
       "      <td>USD</td>\n",
       "      <td>NaN</td>\n",
       "      <td>NaN</td>\n",
       "      <td>NaN</td>\n",
       "      <td>11.0</td>\n",
       "      <td>3433955.0</td>\n",
       "      <td>NaN</td>\n",
       "      <td>...</td>\n",
       "      <td>117900.0</td>\n",
       "      <td>NaN</td>\n",
       "      <td>1871.428571</td>\n",
       "      <td>http://www.properati.com.ar/95fn_venta_departa...</td>\n",
       "      <td>apartment</td>\n",
       "      <td>1.0</td>\n",
       "      <td>NaN</td>\n",
       "      <td>NaN</td>\n",
       "      <td>63.0</td>\n",
       "      <td>NaN</td>\n",
       "    </tr>\n",
       "    <tr>\n",
       "      <th>236474</th>\n",
       "      <td>NaN</td>\n",
       "      <td>NaN</td>\n",
       "      <td>2013-08-12</td>\n",
       "      <td>USD</td>\n",
       "      <td>NaN</td>\n",
       "      <td>NaN</td>\n",
       "      <td>NaN</td>\n",
       "      <td>11.0</td>\n",
       "      <td>3433955.0</td>\n",
       "      <td>NaN</td>\n",
       "      <td>...</td>\n",
       "      <td>117900.0</td>\n",
       "      <td>NaN</td>\n",
       "      <td>1871.428571</td>\n",
       "      <td>http://www.properati.com.ar/95fn_venta_departa...</td>\n",
       "      <td>apartment</td>\n",
       "      <td>1.0</td>\n",
       "      <td>NaN</td>\n",
       "      <td>NaN</td>\n",
       "      <td>63.0</td>\n",
       "      <td>NaN</td>\n",
       "    </tr>\n",
       "    <tr>\n",
       "      <th>267336</th>\n",
       "      <td>NaN</td>\n",
       "      <td>NaN</td>\n",
       "      <td>2013-08-12</td>\n",
       "      <td>USD</td>\n",
       "      <td>NaN</td>\n",
       "      <td>NaN</td>\n",
       "      <td>NaN</td>\n",
       "      <td>11.0</td>\n",
       "      <td>3433955.0</td>\n",
       "      <td>NaN</td>\n",
       "      <td>...</td>\n",
       "      <td>117900.0</td>\n",
       "      <td>NaN</td>\n",
       "      <td>NaN</td>\n",
       "      <td>http://www.properati.com.ar/95fn_venta_departa...</td>\n",
       "      <td>apartment</td>\n",
       "      <td>1.0</td>\n",
       "      <td>NaN</td>\n",
       "      <td>NaN</td>\n",
       "      <td>NaN</td>\n",
       "      <td>NaN</td>\n",
       "    </tr>\n",
       "  </tbody>\n",
       "</table>\n",
       "<p>5 rows × 29 columns</p>\n",
       "</div>"
      ],
      "text/plain": [
       "            country_name  created_on currency description expenses extra  \\\n",
       "74702   NaN          NaN  2013-08-12      USD         NaN      NaN   NaN   \n",
       "137024  NaN          NaN  2013-08-12      USD         NaN      NaN   NaN   \n",
       "207175  NaN          NaN  2013-08-12      USD         NaN      NaN   NaN   \n",
       "236474  NaN          NaN  2013-08-12      USD         NaN      NaN   NaN   \n",
       "267336  NaN          NaN  2013-08-12      USD         NaN      NaN   NaN   \n",
       "\n",
       "        floor  geonames_id   id  ...   price_aprox_usd  price_per_m2  \\\n",
       "74702    11.0    3433955.0  NaN  ...          117900.0           NaN   \n",
       "137024   11.0    3433955.0  NaN  ...          117900.0           NaN   \n",
       "207175   11.0    3433955.0  NaN  ...          117900.0           NaN   \n",
       "236474   11.0    3433955.0  NaN  ...          117900.0           NaN   \n",
       "267336   11.0    3433955.0  NaN  ...          117900.0           NaN   \n",
       "\n",
       "       price_usd_per_m2                                      properati_url  \\\n",
       "74702       1871.428571  http://www.properati.com.ar/95fn_venta_departa...   \n",
       "137024      1871.428571  http://www.properati.com.ar/95fn_venta_departa...   \n",
       "207175      1871.428571  http://www.properati.com.ar/95fn_venta_departa...   \n",
       "236474      1871.428571  http://www.properati.com.ar/95fn_venta_departa...   \n",
       "267336              NaN  http://www.properati.com.ar/95fn_venta_departa...   \n",
       "\n",
       "       property_type rooms state_name  surface_covered_in_m2  \\\n",
       "74702      apartment   1.0        NaN                    NaN   \n",
       "137024     apartment   1.0        NaN                    NaN   \n",
       "207175     apartment   1.0        NaN                    NaN   \n",
       "236474     apartment   1.0        NaN                    NaN   \n",
       "267336     apartment   1.0        NaN                    NaN   \n",
       "\n",
       "        surface_total_in_m2  title  \n",
       "74702                  63.0    NaN  \n",
       "137024                 63.0    NaN  \n",
       "207175                 63.0    NaN  \n",
       "236474                 63.0    NaN  \n",
       "267336                  NaN    NaN  \n",
       "\n",
       "[5 rows x 29 columns]"
      ]
     },
     "execution_count": 40,
     "metadata": {},
     "output_type": "execute_result"
    }
   ],
   "source": [
    "b[b[\"properati_url\"] == \"http://www.properati.com.ar/95fn_venta_departamento_capital-federal\"].head(5)"
   ]
  },
  {
   "cell_type": "code",
   "execution_count": 41,
   "metadata": {
    "collapsed": true
   },
   "outputs": [
    {
     "data": {
      "text/html": [
       "<div>\n",
       "<style>\n",
       "    .dataframe thead tr:only-child th {\n",
       "        text-align: right;\n",
       "    }\n",
       "\n",
       "    .dataframe thead th {\n",
       "        text-align: left;\n",
       "    }\n",
       "\n",
       "    .dataframe tbody tr th {\n",
       "        vertical-align: top;\n",
       "    }\n",
       "</style>\n",
       "<table border=\"1\" class=\"dataframe\">\n",
       "  <thead>\n",
       "    <tr style=\"text-align: right;\">\n",
       "      <th></th>\n",
       "      <th></th>\n",
       "      <th>country_name</th>\n",
       "      <th>created_on</th>\n",
       "      <th>currency</th>\n",
       "      <th>description</th>\n",
       "      <th>expenses</th>\n",
       "      <th>extra</th>\n",
       "      <th>floor</th>\n",
       "      <th>geonames_id</th>\n",
       "      <th>id</th>\n",
       "      <th>...</th>\n",
       "      <th>price_aprox_usd</th>\n",
       "      <th>price_per_m2</th>\n",
       "      <th>price_usd_per_m2</th>\n",
       "      <th>properati_url</th>\n",
       "      <th>property_type</th>\n",
       "      <th>rooms</th>\n",
       "      <th>state_name</th>\n",
       "      <th>surface_covered_in_m2</th>\n",
       "      <th>surface_total_in_m2</th>\n",
       "      <th>title</th>\n",
       "    </tr>\n",
       "  </thead>\n",
       "  <tbody>\n",
       "    <tr>\n",
       "      <th>69454</th>\n",
       "      <td>NaN</td>\n",
       "      <td>NaN</td>\n",
       "      <td>2013-06-14</td>\n",
       "      <td>USD</td>\n",
       "      <td>NaN</td>\n",
       "      <td>NaN</td>\n",
       "      <td>NaN</td>\n",
       "      <td>NaN</td>\n",
       "      <td>3430310.0</td>\n",
       "      <td>NaN</td>\n",
       "      <td>...</td>\n",
       "      <td>192000.0</td>\n",
       "      <td>NaN</td>\n",
       "      <td>4085.106383</td>\n",
       "      <td>http://www.properati.com.ar/7v2b_venta_departa...</td>\n",
       "      <td>apartment</td>\n",
       "      <td>2.0</td>\n",
       "      <td>NaN</td>\n",
       "      <td>NaN</td>\n",
       "      <td>47.0</td>\n",
       "      <td>NaN</td>\n",
       "    </tr>\n",
       "    <tr>\n",
       "      <th>130136</th>\n",
       "      <td>NaN</td>\n",
       "      <td>NaN</td>\n",
       "      <td>2013-06-14</td>\n",
       "      <td>USD</td>\n",
       "      <td>NaN</td>\n",
       "      <td>NaN</td>\n",
       "      <td>NaN</td>\n",
       "      <td>NaN</td>\n",
       "      <td>3430310.0</td>\n",
       "      <td>NaN</td>\n",
       "      <td>...</td>\n",
       "      <td>192000.0</td>\n",
       "      <td>NaN</td>\n",
       "      <td>4085.106383</td>\n",
       "      <td>http://www.properati.com.ar/7v2b_venta_departa...</td>\n",
       "      <td>apartment</td>\n",
       "      <td>2.0</td>\n",
       "      <td>NaN</td>\n",
       "      <td>NaN</td>\n",
       "      <td>47.0</td>\n",
       "      <td>NaN</td>\n",
       "    </tr>\n",
       "    <tr>\n",
       "      <th>195104</th>\n",
       "      <td>NaN</td>\n",
       "      <td>NaN</td>\n",
       "      <td>2013-06-14</td>\n",
       "      <td>USD</td>\n",
       "      <td>NaN</td>\n",
       "      <td>NaN</td>\n",
       "      <td>NaN</td>\n",
       "      <td>NaN</td>\n",
       "      <td>3430310.0</td>\n",
       "      <td>NaN</td>\n",
       "      <td>...</td>\n",
       "      <td>185000.0</td>\n",
       "      <td>NaN</td>\n",
       "      <td>3936.170213</td>\n",
       "      <td>http://www.properati.com.ar/7v2b_venta_departa...</td>\n",
       "      <td>apartment</td>\n",
       "      <td>2.0</td>\n",
       "      <td>NaN</td>\n",
       "      <td>NaN</td>\n",
       "      <td>47.0</td>\n",
       "      <td>NaN</td>\n",
       "    </tr>\n",
       "    <tr>\n",
       "      <th>227790</th>\n",
       "      <td>NaN</td>\n",
       "      <td>NaN</td>\n",
       "      <td>2013-06-14</td>\n",
       "      <td>USD</td>\n",
       "      <td>NaN</td>\n",
       "      <td>NaN</td>\n",
       "      <td>NaN</td>\n",
       "      <td>NaN</td>\n",
       "      <td>3430310.0</td>\n",
       "      <td>NaN</td>\n",
       "      <td>...</td>\n",
       "      <td>192000.0</td>\n",
       "      <td>NaN</td>\n",
       "      <td>4085.106383</td>\n",
       "      <td>http://www.properati.com.ar/7v2b_venta_departa...</td>\n",
       "      <td>apartment</td>\n",
       "      <td>2.0</td>\n",
       "      <td>NaN</td>\n",
       "      <td>NaN</td>\n",
       "      <td>47.0</td>\n",
       "      <td>NaN</td>\n",
       "    </tr>\n",
       "    <tr>\n",
       "      <th>265791</th>\n",
       "      <td>NaN</td>\n",
       "      <td>NaN</td>\n",
       "      <td>2013-06-14</td>\n",
       "      <td>USD</td>\n",
       "      <td>NaN</td>\n",
       "      <td>NaN</td>\n",
       "      <td>NaN</td>\n",
       "      <td>6.0</td>\n",
       "      <td>3430310.0</td>\n",
       "      <td>NaN</td>\n",
       "      <td>...</td>\n",
       "      <td>195000.0</td>\n",
       "      <td>NaN</td>\n",
       "      <td>NaN</td>\n",
       "      <td>http://www.properati.com.ar/7v2b_venta_departa...</td>\n",
       "      <td>apartment</td>\n",
       "      <td>2.0</td>\n",
       "      <td>NaN</td>\n",
       "      <td>NaN</td>\n",
       "      <td>NaN</td>\n",
       "      <td>NaN</td>\n",
       "    </tr>\n",
       "  </tbody>\n",
       "</table>\n",
       "<p>5 rows × 29 columns</p>\n",
       "</div>"
      ],
      "text/plain": [
       "            country_name  created_on currency description expenses extra  \\\n",
       "69454   NaN          NaN  2013-06-14      USD         NaN      NaN   NaN   \n",
       "130136  NaN          NaN  2013-06-14      USD         NaN      NaN   NaN   \n",
       "195104  NaN          NaN  2013-06-14      USD         NaN      NaN   NaN   \n",
       "227790  NaN          NaN  2013-06-14      USD         NaN      NaN   NaN   \n",
       "265791  NaN          NaN  2013-06-14      USD         NaN      NaN   NaN   \n",
       "\n",
       "        floor  geonames_id   id  ...   price_aprox_usd  price_per_m2  \\\n",
       "69454     NaN    3430310.0  NaN  ...          192000.0           NaN   \n",
       "130136    NaN    3430310.0  NaN  ...          192000.0           NaN   \n",
       "195104    NaN    3430310.0  NaN  ...          185000.0           NaN   \n",
       "227790    NaN    3430310.0  NaN  ...          192000.0           NaN   \n",
       "265791    6.0    3430310.0  NaN  ...          195000.0           NaN   \n",
       "\n",
       "       price_usd_per_m2                                      properati_url  \\\n",
       "69454       4085.106383  http://www.properati.com.ar/7v2b_venta_departa...   \n",
       "130136      4085.106383  http://www.properati.com.ar/7v2b_venta_departa...   \n",
       "195104      3936.170213  http://www.properati.com.ar/7v2b_venta_departa...   \n",
       "227790      4085.106383  http://www.properati.com.ar/7v2b_venta_departa...   \n",
       "265791              NaN  http://www.properati.com.ar/7v2b_venta_departa...   \n",
       "\n",
       "       property_type rooms state_name  surface_covered_in_m2  \\\n",
       "69454      apartment   2.0        NaN                    NaN   \n",
       "130136     apartment   2.0        NaN                    NaN   \n",
       "195104     apartment   2.0        NaN                    NaN   \n",
       "227790     apartment   2.0        NaN                    NaN   \n",
       "265791     apartment   2.0        NaN                    NaN   \n",
       "\n",
       "        surface_total_in_m2  title  \n",
       "69454                  47.0    NaN  \n",
       "130136                 47.0    NaN  \n",
       "195104                 47.0    NaN  \n",
       "227790                 47.0    NaN  \n",
       "265791                  NaN    NaN  \n",
       "\n",
       "[5 rows x 29 columns]"
      ]
     },
     "execution_count": 41,
     "metadata": {},
     "output_type": "execute_result"
    }
   ],
   "source": [
    "b[b[\"properati_url\"] == \"http://www.properati.com.ar/7v2b_venta_departamento_olivos_avenida-del-libertador-gral-san-martin_2300\"].head(5)"
   ]
  },
  {
   "cell_type": "markdown",
   "metadata": {},
   "source": [
    "# Observo que hay publicaciones con misma URL y que parecen ser las mismas propiedades, pero el inconveniente es que los campos vacios de cada uno de estos registros varia, debo filtrar de una forma mas compleja"
   ]
  },
  {
   "cell_type": "markdown",
   "metadata": {},
   "source": [
    "# Antes de hacer esto voy a eliminar columnas que no interesan"
   ]
  },
  {
   "cell_type": "code",
   "execution_count": 42,
   "metadata": {},
   "outputs": [
    {
     "data": {
      "text/plain": [
       "0"
      ]
     },
     "execution_count": 42,
     "metadata": {},
     "output_type": "execute_result"
    }
   ],
   "source": [
    "len(b[~b[\"lat\"].isnull() & ~b[\"lon\"].isnull() & b[\"lat-lon\"].isnull()])"
   ]
  },
  {
   "cell_type": "code",
   "execution_count": 43,
   "metadata": {
    "collapsed": true
   },
   "outputs": [],
   "source": [
    "#Puedo eliminar latitud y longitud, ya que lat-lon tiene su informacion\n",
    "#tambien, country_name, image_thumbnail, operation, price, price aprox local curr, currency\n",
    "#ya que solo trabajaremos con precios en dolares\n"
   ]
  },
  {
   "cell_type": "code",
   "execution_count": 44,
   "metadata": {},
   "outputs": [
    {
     "data": {
      "text/plain": [
       "Index([u' ', u'country_name', u'created_on', u'currency', u'description',\n",
       "       u'expenses', u'extra', u'floor', u'geonames_id', u'id',\n",
       "       u'image_thumbnail', u'lat', u'lat-lon', u'lon', u'operation',\n",
       "       u'place_name', u'place_with_parent_names', u'price',\n",
       "       u'price_aprox_local_currency', u'price_aprox_usd', u'price_per_m2',\n",
       "       u'price_usd_per_m2', u'properati_url', u'property_type', u'rooms',\n",
       "       u'state_name', u'surface_covered_in_m2', u'surface_total_in_m2',\n",
       "       u'title'],\n",
       "      dtype='object')"
      ]
     },
     "execution_count": 44,
     "metadata": {},
     "output_type": "execute_result"
    }
   ],
   "source": [
    "b.columns"
   ]
  },
  {
   "cell_type": "code",
   "execution_count": 51,
   "metadata": {
    "collapsed": true
   },
   "outputs": [],
   "source": [
    "data = b.drop([\"country_name\",\"lat\",\"lon\",\"image_thumbnail\",\\\n",
    "               \"operation\",\"price\",'price_per_m2',\"price_aprox_local_currency\",\"currency\"],axis=1)"
   ]
  },
  {
   "cell_type": "code",
   "execution_count": 63,
   "metadata": {},
   "outputs": [
    {
     "data": {
      "text/plain": [
       "476199"
      ]
     },
     "execution_count": 63,
     "metadata": {},
     "output_type": "execute_result"
    }
   ],
   "source": [
    "len(data[data.duplicated(subset=[\"property_type\",\"properati_url\",\"price_aprox_usd\",\"price_usd_per_m2\",\"rooms\",\"floor\",\"place_name\",\"surface_covered_in_m2\",\"surface_total_in_m2\",\"lat-lon\",\"expenses\",\"description\",\"title\",\"extra\"])])"
   ]
  },
  {
   "cell_type": "code",
   "execution_count": 65,
   "metadata": {},
   "outputs": [],
   "source": [
    "#Elimino registros con misma url de properati, mismo precio y misma cantidad de habitaciones y piso \n",
    "data = data.drop_duplicates(subset=[\"property_type\",\"properati_url\",\"price_aprox_usd\",\"price_usd_per_m2\",\"rooms\",\"floor\",\"place_name\",\"surface_covered_in_m2\",\"surface_total_in_m2\",\"lat-lon\",\"expenses\",\"description\",\"title\",\"extra\"])"
   ]
  },
  {
   "cell_type": "code",
   "execution_count": 66,
   "metadata": {},
   "outputs": [
    {
     "data": {
      "text/plain": [
       "845902"
      ]
     },
     "execution_count": 66,
     "metadata": {},
     "output_type": "execute_result"
    }
   ],
   "source": [
    "len(data)"
   ]
  },
  {
   "cell_type": "markdown",
   "metadata": {},
   "source": [
    "# Vamos a intentar recuperar el piso y la cantidad de habitaciones de los registros que no guarden esta informacion pero que la guarden en su descripcion"
   ]
  },
  {
   "cell_type": "code",
   "execution_count": 67,
   "metadata": {
    "collapsed": true
   },
   "outputs": [],
   "source": [
    "sin_rooms = data[data[\"rooms\"].isnull()]"
   ]
  },
  {
   "cell_type": "code",
   "execution_count": 68,
   "metadata": {},
   "outputs": [
    {
     "name": "stdout",
     "output_type": "stream",
     "text": [
      "354982\n",
      "354982\n",
      "354982\n"
     ]
    }
   ],
   "source": [
    "print len(sin_rooms)\n",
    "print len(sin_rooms[\"description\"].str.contains(\"habitaciones\"))\n",
    "print len(sin_rooms[\"description\"].str.contains(\"ambiente\"))"
   ]
  },
  {
   "cell_type": "markdown",
   "metadata": {},
   "source": [
    "### capaz podemos llegar a recuperar todas las cantidades de habitaciones!"
   ]
  },
  {
   "cell_type": "markdown",
   "metadata": {},
   "source": [
    "### Como se presenta esta informacion?"
   ]
  },
  {
   "cell_type": "code",
   "execution_count": 69,
   "metadata": {},
   "outputs": [
    {
     "name": "stdout",
     "output_type": "stream",
     "text": [
      "354982\n"
     ]
    }
   ],
   "source": [
    "descripciones = sin_rooms[\"description\"].values\n",
    "print len(sin_rooms[\"title\"].str.contains(\"ambientes\"))"
   ]
  },
  {
   "cell_type": "code",
   "execution_count": 70,
   "metadata": {},
   "outputs": [
    {
     "name": "stdout",
     "output_type": "stream",
     "text": [
      "91039\n"
     ]
    }
   ],
   "source": [
    "posibles_descripciones_ambientes = {\"1 ambiente\": 1, \"monoambiente\": 1, \"mono ambiente\":1, \"2 ambientes\": 2,\"3 ambientes\": 3,\n",
    "                          \"4 ambientes\": 4,\"5 ambientes\": 5, \"6 ambientes\": 6, \"7 ambientes\": 7,\"8 ambientes\": 8,\n",
    "                          \"9 ambientes\": 1, \"10 ambientes\": 10,\n",
    "                         \"ambientes: 1\": 1, \"ambientes: 2\": 2, \"ambientes: 3\": 3, \"ambientes: 4\": 4, \"ambientes: 5\": 5,\n",
    "                         \"ambientes: 6\": 6, \"ambientes: 7\": 7, \"un ambiente\": 1, \"dos ambientes\": 2, \"tres ambientes\": 3,\n",
    "                         \"cuatro ambientes\": 4,\"cinco ambientes\": 5,\" seis ambientes\": 6, \"siete ambientes\": 7,\n",
    "                         \"2 impecables ambientes\": 2, \"3 impecables ambientes\": 3, \"4 amplios ambientes\": 4, \"2 amplios ambientes\": 2,\n",
    "                          \"3 amplios ambientes\": 3, \"5 amplios ambientes\": 5, \"2  ambientes\": 2, \"3  ambientes\": 3,\n",
    "                          \"2 grandes ambientes\": 2, \"6 amplios ambientes\": 6, \"1 ambientes\": 1\n",
    "                         }\n",
    "\n",
    "encuentros = 0\n",
    "for d in descripciones:\n",
    "    found = False\n",
    "    for k in posibles_descripciones_ambientes:\n",
    "        if not(pd.isnull(d)):\n",
    "            if k in d:\n",
    "                encuentros += 1\n",
    "                found = True\n",
    "                break\n",
    "#    if not(found) and not(pd.isnull(d)):\n",
    "#        split = d.split(\" \")\n",
    "#        for i in range(0,len(split)):\n",
    "#            if split[i] == \"ambientes\":\n",
    "#                try:\n",
    "#                    string = [split[i-2], split[i-1], split[i], split[i+1], split[i + 2]]\n",
    "#                    for strr in string:\n",
    "#                        if strr.isdigit():\n",
    "#                            print \" \".join(string)\n",
    "#                except:\n",
    "#                    print d\n",
    "                \n",
    "    \n",
    "print encuentros\n",
    "    "
   ]
  },
  {
   "cell_type": "markdown",
   "metadata": {},
   "source": [
    "# vemos que podemos recuperar al menos 65727 registros (porque esto no solo lo aplicamos a descripcion, a titulo y extra tambien)  de los que no se tiene su habitacion asignada. Se podrian buscar mas casos extraños para agregar al diccionario pero al parecer no cambian demasiado el total de registros que se pueden recuperar."
   ]
  },
  {
   "cell_type": "markdown",
   "metadata": {},
   "source": [
    "## Hago lo mismo para el piso"
   ]
  },
  {
   "cell_type": "code",
   "execution_count": 71,
   "metadata": {},
   "outputs": [
    {
     "name": "stdout",
     "output_type": "stream",
     "text": [
      "689112\n",
      "689112\n"
     ]
    }
   ],
   "source": [
    "sin_piso = data[data[\"floor\"].isnull()]\n",
    "print len(sin_piso)\n",
    "print len(sin_piso[\"description\"].str.contains(\"piso\"))\n",
    "descripciones = sin_piso[\"description\"]"
   ]
  },
  {
   "cell_type": "code",
   "execution_count": 72,
   "metadata": {},
   "outputs": [
    {
     "name": "stdout",
     "output_type": "stream",
     "text": [
      "4260\n"
     ]
    }
   ],
   "source": [
    "\n",
    "posibles_descripciones_piso = {'1° piso': 1,\n",
    "'2° piso': 2,\n",
    "'3° piso': 3,\n",
    "'4° piso': 4,\n",
    "'5° piso': 5,\n",
    "'6° piso': 6,\n",
    "'7° piso': 7,\n",
    "'8° piso': 8,\n",
    "'9° piso': 9,\n",
    "'10° piso': 10,\n",
    "'11° piso': 11,\n",
    "'12° piso': 12,\n",
    "'13° piso': 13,\n",
    "'14° piso': 14,\n",
    "'15° piso': 15,\n",
    "'16° piso': 16,\n",
    "'17° piso': 17,\n",
    "'18° piso': 18,\n",
    "'19° piso': 19,\n",
    "'20° piso': 20,\n",
    "'21° piso': 21,\n",
    "'22° piso': 22,\n",
    "'23° piso': 23,\n",
    "'24° piso': 24,\n",
    "'25° piso': 25,\n",
    "'26° piso': 26,\n",
    "'27° piso': 27,\n",
    "'28° piso': 28,\n",
    "'29° piso': 29,\n",
    "'30° piso': 30,\n",
    "'31° piso': 31,\n",
    "'32° piso': 32,\n",
    "'33° piso': 33,\n",
    "'34° piso': 34,\n",
    "'35° piso': 35,\n",
    "'36° piso': 36,\n",
    "'37° piso': 37,\n",
    "'38° piso': 38,\n",
    "'39° piso': 39,\n",
    "'40° piso': 40,\n",
    "'41° piso': 41,\n",
    "'42° piso': 42,\n",
    "'43° piso': 43,\n",
    "'44° piso': 44,\n",
    "'45° piso': 45,\n",
    "'46° piso': 46,\n",
    "'47° piso': 47,\n",
    "'48° piso': 48,\n",
    "'49° piso': 49,\n",
    "'50° piso': 50}\n",
    "encuentros = 0\n",
    "for d in descripciones:\n",
    "    found = False\n",
    "    for k in posibles_descripciones_piso:\n",
    "        if not(pd.isnull(d)):\n",
    "            if k in d:\n",
    "                encuentros += 1\n",
    "                found = True\n",
    "                break\n",
    "#    if not(found) and not(pd.isnull(d)):\n",
    "#        split = d.split(\" \")\n",
    "#        for i in range(0,len(split)):\n",
    "#            if split[i] == \"piso\":\n",
    "#                try:\n",
    "#                    string = [split[i- 4], split[i - 3],split[i-2], split[i-1], split[i], split[i+1], split[i + 2], split[i + 3], split[i + 4]]\n",
    "#                    for strr in string:\n",
    "#                        if strr.isdigit():\n",
    "#                            print \" \".join(string)\n",
    "#                except:\n",
    "#                    print d\n",
    "                \n",
    "    \n",
    "print encuentros\n"
   ]
  },
  {
   "cell_type": "code",
   "execution_count": 73,
   "metadata": {
    "collapsed": true
   },
   "outputs": [],
   "source": [
    "#Se recuperian bastante menos, es mas complicado recuperar los pisos"
   ]
  },
  {
   "cell_type": "code",
   "execution_count": 74,
   "metadata": {
    "collapsed": true
   },
   "outputs": [],
   "source": [
    "# Antes de agregar lo que vimos recien arreglamos un par de cosas que son que se tiene a barrios inexistentes en las distintas zonas como \n",
    "# barrio, ej: capital federal en CABA"
   ]
  },
  {
   "cell_type": "code",
   "execution_count": 75,
   "metadata": {
    "collapsed": true
   },
   "outputs": [],
   "source": [
    "barrios_caba = data[data[\"place_with_parent_names\"].str.contains(\"Capital Federal\")][\"place_name\"].value_counts().index"
   ]
  },
  {
   "cell_type": "code",
   "execution_count": 76,
   "metadata": {
    "collapsed": true
   },
   "outputs": [
    {
     "data": {
      "text/plain": [
       "Index([u'Belgrano', u'Palermo', u'Caballito', u'Villa Urquiza',\n",
       "       u'Villa Crespo', u'Flores', u'Barrio Norte', u'Almagro', u'Recoleta',\n",
       "       u'Nuñez', u'Boedo', u'Balvanera', u'San Telmo', u'San Cristobal',\n",
       "       u'Saavedra', u'Barracas', u'Colegiales', u'Villa del Parque',\n",
       "       u'Floresta', u'Villa Devoto', u'Palermo Chico', u'Puerto Madero',\n",
       "       u'Palermo Hollywood', u'Mataderos', u'Congreso', u'Monserrat',\n",
       "       u'Villa Luro', u'Liniers', u'Villa Pueyrredón', u'Once',\n",
       "       u'Parque Patricios', u'Palermo Soho', u'Coghlan', u'Parque Chacabuco',\n",
       "       u'Centro / Microcentro', u'Chacarita', u'Las Cañitas', u'San Nicolás',\n",
       "       u'Boca', u'Retiro', u'Villa Lugano', u'Villa Ortuzar', u'Constitución',\n",
       "       u'Paternal', u'Parque Chas', u'Monte Castro', u'Parque Centenario',\n",
       "       u'Abasto', u'Villa Santa Rita', u'Agronomía', u'Parque Avellaneda',\n",
       "       u'Tribunales', u'Versalles', u'Palermo Viejo', u'Pompeya',\n",
       "       u'Villa General Mitre', u'Villa Real', u'Velez Sarsfield',\n",
       "       u'Villa Soldati', u'Distrito de las Artes', u'Villa Riachuelo',\n",
       "       u'Catalinas'],\n",
       "      dtype='object')"
      ]
     },
     "execution_count": 76,
     "metadata": {},
     "output_type": "execute_result"
    }
   ],
   "source": [
    "barrios_caba.delete(0) #Elimino capital federal"
   ]
  },
  {
   "cell_type": "code",
   "execution_count": 77,
   "metadata": {
    "collapsed": true
   },
   "outputs": [],
   "source": [
    "barrios_zn = []\n",
    "barrios_zo = []\n",
    "barrios_zs = []\n",
    "data_barrios = data[\"place_with_parent_names\"]\n",
    "for v in data_barrios:\n",
    "   \n",
    "    if v.split(\"|\")[2] == \"Bs.As. G.B.A. Zona Oeste\":\n",
    "        try:\n",
    "            if v.split(\"|\")[4] not in barrios_zo:\n",
    "                barrios_zo.append(v.split(\"|\")[4])\n",
    "        except:\n",
    "            if v.split(\"|\")[3] not in barrios_zo:\n",
    "                barrios_zo.append(v.split(\"|\")[3])\n",
    "    elif v.split(\"|\")[2] == \"Bs.As. G.B.A. Zona Sur\":\n",
    "        try:\n",
    "            if v.split(\"|\")[4] not in barrios_zs:\n",
    "                barrios_zs.append(v.split(\"|\")[4])\n",
    "        except:\n",
    "            if v.split(\"|\")[3] not in barrios_zs:\n",
    "                barrios_zs.append(v.split(\"|\")[3])\n",
    "    elif v.split(\"|\")[2] == \"Bs.As. G.B.A. Zona Norte\":\n",
    "        try:\n",
    "            if v.split(\"|\")[4] not in barrios_zn:\n",
    "                barrios_zn.append(v.split(\"|\")[4])\n",
    "        except:\n",
    "            if v.split(\"|\")[3] not in barrios_zn:\n",
    "                barrios_zn.append(v.split(\"|\")[3])"
   ]
  },
  {
   "cell_type": "code",
   "execution_count": 78,
   "metadata": {
    "collapsed": true
   },
   "outputs": [],
   "source": [
    "barrios_zn.remove(\"\")"
   ]
  },
  {
   "cell_type": "code",
   "execution_count": 79,
   "metadata": {
    "collapsed": true
   },
   "outputs": [],
   "source": [
    "barrios_zo.remove(\"\")\n",
    "barrios_zs.remove(\"\")"
   ]
  },
  {
   "cell_type": "code",
   "execution_count": 80,
   "metadata": {},
   "outputs": [
    {
     "name": "stdout",
     "output_type": "stream",
     "text": [
      "43712\n",
      "12474\n",
      "1034\n",
      "1609\n"
     ]
    }
   ],
   "source": [
    "#¿cuantos hay incorrectos?\n",
    "bad_places = [\"Capital Federal\", \"Bs.As. G.B.A. Zona Norte\", \"Bs.As. G.B.A. Zona Sur\", \"Bs.As. G.B.A. Zona Oeste\"]\n",
    "for place in bad_places:\n",
    "    print len(data[data[\"place_name\"] == place])"
   ]
  },
  {
   "cell_type": "code",
   "execution_count": 81,
   "metadata": {
    "collapsed": true
   },
   "outputs": [],
   "source": [
    "barrios = {\"Capital Federal\": barrios_caba, \"Bs.As. G.B.A. Zona Oeste\": barrios_zo, \"Bs.As. G.B.A. Zona Sur\":barrios_zs,\n",
    "          \"Bs.As. G.B.A. Zona Norte\": barrios_zn}"
   ]
  },
  {
   "cell_type": "code",
   "execution_count": 82,
   "metadata": {
    "collapsed": true
   },
   "outputs": [],
   "source": [
    "def recuperar_barrio(row):\n",
    "    place_actual = row[\"place_name\"]\n",
    "    #Si es nulo hacemos una busqueda mas exhaustiva \n",
    "    descripcion = row[\"description\"]\n",
    "    titulo = row[\"title\"]\n",
    "    extra = row[\"extra\"]\n",
    "    if (pd.isnull(place_actual)):\n",
    "        zona = \"Capital Federal\"\n",
    "        if row[\"place_with_parent_names\"] == \"Bs.As. G.B.A. Zona Norte\":\n",
    "            zona = \"Bs.As. G.B.A. Zona Norte\"\n",
    "        \n",
    "        elif row[\"place_with_parent_names\"] == \"Bs.As. G.B.A. Zona Sur\":\n",
    "            zona = \"Bs.As. G.B.A. Zona Sur\"\n",
    "        elif row[\"place_with_parent_names\"] == \"Bs.As. G.B.A. Zona Oeste\":\n",
    "            zona = \"Bs.As. G.B.A. Zona Oeste\"\n",
    "        barrios_posibles = barrios[zona]\n",
    "        if not(pd.isnull(descripcion)):\n",
    "            for b in barrios_posibles:\n",
    "                if b in descripcion:\n",
    "                    return b\n",
    "       \n",
    "    elif row[\"place_name\"] in barrios:\n",
    "        barrios_posibles = barrios[row[\"place_name\"]]\n",
    "        if not(pd.isnull(descripcion)):\n",
    "            for b in barrios_posibles:\n",
    "                if b in descripcion:\n",
    "                    return b\n",
    "       \n",
    "    else:\n",
    "        return row[\"place_name\"]\n",
    "        \n",
    "            \n",
    "        \n",
    "            "
   ]
  },
  {
   "cell_type": "code",
   "execution_count": 83,
   "metadata": {
    "collapsed": true
   },
   "outputs": [
    {
     "name": "stderr",
     "output_type": "stream",
     "text": [
      "/home/tomas/anaconda2/lib/python2.7/site-packages/ipykernel_launcher.py:1: SettingWithCopyWarning: \n",
      "A value is trying to be set on a copy of a slice from a DataFrame.\n",
      "Try using .loc[row_indexer,col_indexer] = value instead\n",
      "\n",
      "See the caveats in the documentation: http://pandas.pydata.org/pandas-docs/stable/indexing.html#indexing-view-versus-copy\n",
      "  \"\"\"Entry point for launching an IPython kernel.\n"
     ]
    }
   ],
   "source": [
    "data[\"place_name\"] = data.apply(lambda row: recuperar_barrio(row), axis = 1)"
   ]
  },
  {
   "cell_type": "code",
   "execution_count": 84,
   "metadata": {},
   "outputs": [
    {
     "data": {
      "text/plain": [
       "0"
      ]
     },
     "execution_count": 84,
     "metadata": {},
     "output_type": "execute_result"
    }
   ],
   "source": [
    "len(data[data[\"place_name\"] == \"Bs.As. G.B.A. Zona Norte\"])"
   ]
  },
  {
   "cell_type": "code",
   "execution_count": 85,
   "metadata": {},
   "outputs": [
    {
     "data": {
      "text/plain": [
       "0"
      ]
     },
     "execution_count": 85,
     "metadata": {},
     "output_type": "execute_result"
    }
   ],
   "source": [
    "len(data[data[\"place_name\"] == \"Bs.As. G.B.A. Zona Sur\"])"
   ]
  },
  {
   "cell_type": "code",
   "execution_count": 86,
   "metadata": {},
   "outputs": [
    {
     "data": {
      "text/plain": [
       "0"
      ]
     },
     "execution_count": 86,
     "metadata": {},
     "output_type": "execute_result"
    }
   ],
   "source": [
    "len(data[data[\"place_name\"] == \"Bs.As. G.B.A. Zona Oeste\"])"
   ]
  },
  {
   "cell_type": "code",
   "execution_count": 87,
   "metadata": {},
   "outputs": [
    {
     "data": {
      "text/plain": [
       "0"
      ]
     },
     "execution_count": 87,
     "metadata": {},
     "output_type": "execute_result"
    }
   ],
   "source": [
    "len(data[data[\"place_name\"] == \"Capital Federal\"])"
   ]
  },
  {
   "cell_type": "code",
   "execution_count": 88,
   "metadata": {
    "collapsed": true
   },
   "outputs": [],
   "source": [
    "# Recupero los pisos y cantidad de ambientes que podamos"
   ]
  },
  {
   "cell_type": "code",
   "execution_count": 89,
   "metadata": {
    "collapsed": true
   },
   "outputs": [],
   "source": [
    "def recuperar_atributo(row, atributo, info_atributo):\n",
    "    atributo_act = row[atributo]\n",
    "    if not(pd.isnull(atributo_act)):\n",
    "        return atributo_act\n",
    "    \n",
    "    descripcion = row[\"description\"]\n",
    "    extra = row[\"extra\"]\n",
    "    title = row[\"title\"]\n",
    "    atributo_corregido = atributo_act\n",
    "    cols = [descripcion, extra, title]\n",
    "    for col in cols:\n",
    "        if not(pd.isnull(col)):\n",
    "            for k in info_atributo:\n",
    "                if k in col:\n",
    "                    atributo_corregido = info_atributo[k]\n",
    "                    return atributo_corregido\n",
    "    return atributo_corregido #Si no se logro encontro nunca, devuelvo el NaN\n",
    "                    "
   ]
  },
  {
   "cell_type": "code",
   "execution_count": 90,
   "metadata": {
    "collapsed": true
   },
   "outputs": [
    {
     "name": "stderr",
     "output_type": "stream",
     "text": [
      "/home/tomas/anaconda2/lib/python2.7/site-packages/ipykernel_launcher.py:1: SettingWithCopyWarning: \n",
      "A value is trying to be set on a copy of a slice from a DataFrame.\n",
      "Try using .loc[row_indexer,col_indexer] = value instead\n",
      "\n",
      "See the caveats in the documentation: http://pandas.pydata.org/pandas-docs/stable/indexing.html#indexing-view-versus-copy\n",
      "  \"\"\"Entry point for launching an IPython kernel.\n"
     ]
    }
   ],
   "source": [
    "data[\"floor\"] = data.apply(lambda row: recuperar_atributo(row, \"floor\", posibles_descripciones_piso), axis = 1)"
   ]
  },
  {
   "cell_type": "code",
   "execution_count": 91,
   "metadata": {
    "collapsed": true
   },
   "outputs": [
    {
     "name": "stderr",
     "output_type": "stream",
     "text": [
      "/home/tomas/anaconda2/lib/python2.7/site-packages/ipykernel_launcher.py:1: SettingWithCopyWarning: \n",
      "A value is trying to be set on a copy of a slice from a DataFrame.\n",
      "Try using .loc[row_indexer,col_indexer] = value instead\n",
      "\n",
      "See the caveats in the documentation: http://pandas.pydata.org/pandas-docs/stable/indexing.html#indexing-view-versus-copy\n",
      "  \"\"\"Entry point for launching an IPython kernel.\n"
     ]
    }
   ],
   "source": [
    "data[\"rooms\"] = data.apply(lambda row: recuperar_atributo(row, \"rooms\", posibles_descripciones_ambientes), axis = 1)"
   ]
  },
  {
   "cell_type": "code",
   "execution_count": 92,
   "metadata": {},
   "outputs": [
    {
     "data": {
      "text/plain": [
       "                           803037\n",
       "created_on                  42865\n",
       "description                314330\n",
       "expenses                   801025\n",
       "extra                      568499\n",
       "floor                      684553\n",
       "geonames_id                164358\n",
       "id                         591723\n",
       "lat-lon                    247209\n",
       "place_name                  58934\n",
       "place_with_parent_names         0\n",
       "price_aprox_usd                 0\n",
       "price_usd_per_m2           171979\n",
       "properati_url                   0\n",
       "property_type                   0\n",
       "rooms                      256032\n",
       "state_name                 591723\n",
       "surface_covered_in_m2      617936\n",
       "surface_total_in_m2        171979\n",
       "title                      314320\n",
       "dtype: int64"
      ]
     },
     "execution_count": 92,
     "metadata": {},
     "output_type": "execute_result"
    }
   ],
   "source": [
    "data.isnull().sum()"
   ]
  },
  {
   "cell_type": "code",
   "execution_count": 95,
   "metadata": {
    "collapsed": true
   },
   "outputs": [],
   "source": [
    "\n",
    "data.to_csv(\"training_data.csv\", compression = \"gzip\")"
   ]
  },
  {
   "cell_type": "code",
   "execution_count": null,
   "metadata": {
    "collapsed": true
   },
   "outputs": [],
   "source": []
  }
 ],
 "metadata": {
  "kernelspec": {
   "display_name": "Python 2",
   "language": "python",
   "name": "python2"
  },
  "language_info": {
   "codemirror_mode": {
    "name": "ipython",
    "version": 2
   },
   "file_extension": ".py",
   "mimetype": "text/x-python",
   "name": "python",
   "nbconvert_exporter": "python",
   "pygments_lexer": "ipython2",
   "version": "2.7.13"
  }
 },
 "nbformat": 4,
 "nbformat_minor": 2
}
